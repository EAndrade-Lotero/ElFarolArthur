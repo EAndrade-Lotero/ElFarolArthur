{
 "cells": [
  {
   "cell_type": "code",
   "execution_count": 1,
   "metadata": {},
   "outputs": [],
   "source": [
    "import pandas as pd\n",
    "import Procedatos as P\n",
    "import Graficos as G\n",
    "import seaborn as sns\n",
    "import numpy as np\n",
    "import matplotlib.pyplot as plt"
   ]
  },
  {
   "cell_type": "markdown",
   "metadata": {},
   "source": [
    "# Heatmaps"
   ]
  },
  {
   "cell_type": "code",
   "execution_count": null,
   "metadata": {
    "scrolled": false
   },
   "outputs": [],
   "source": [
    "data = P.leer_datos([1,3],[1,3],[0],verb=False,muchos=True)\n",
    "# variables = ['Attendance','Deviation', 'Efficiency','Gap','Gini', 'Iniquity']\n",
    "variables = ['Deviation']\n",
    "G.graficar_heatmaps(data, parametros=['Memoria','Num_predic'], variables=variables)"
   ]
  },
  {
   "cell_type": "markdown",
   "metadata": {},
   "source": [
    "* El promedio de `Attendance` más bajo es con memoria 1 y con 12 predictores.\n",
    "* La mayor desviación estándar en el `Attendance` es con memoria 1 y con 12 predictores.\n",
    "* El mayor `Efficiency` es con memoria 12 y con 1 solo predictor.\n",
    "* El menor `Gini` es con memoria 1 y con 12 predictores.\n",
    "* El menor `Iniquity` es con memoria 3 y con 12 predictores.\n",
    "\n",
    "En general:\n",
    "\n",
    "* Aumentar la memoria disminuye el promedio del `Attendance`.\n",
    "* Aumentar el número de predictores disminuye el promedio del `Attendance`, aunque aumenta su desviación estándar."
   ]
  },
  {
   "cell_type": "markdown",
   "metadata": {},
   "source": [
    "# Variando memoria"
   ]
  },
  {
   "cell_type": "code",
   "execution_count": null,
   "metadata": {
    "scrolled": false
   },
   "outputs": [],
   "source": [
    "data = P.leer_datos([1,3,6,9,12],[1],[0],verb=False,muchos=True)\n",
    "data['Modelo'] = data['Memoria']\n",
    "G.comparacion(data)"
   ]
  },
  {
   "cell_type": "markdown",
   "metadata": {},
   "source": [
    "# Variando predictores"
   ]
  },
  {
   "cell_type": "code",
   "execution_count": null,
   "metadata": {
    "scrolled": false
   },
   "outputs": [],
   "source": [
    "data = P.leer_datos([12],[1,3,6,9,12],[0],verb=False,muchos=True)\n",
    "data['Modelo'] = data['Num_predic']\n",
    "G.comparacion(data)"
   ]
  },
  {
   "cell_type": "markdown",
   "metadata": {},
   "source": [
    "Curiosamente, hay una correlación inversa entre el promedio de la `Precision` y el promedio de la `Efficiency`.\n",
    "\n",
    "También es cierto que hay una correlación directa entre el promedio de la `Precision` y el promedio de la `Deviation`.\n",
    "\n",
    "La precisión disminuye al aumentar la memoria.\n",
    "\n",
    "La precisión aumenta al aumentar el número de predictores."
   ]
  },
  {
   "cell_type": "markdown",
   "metadata": {},
   "source": [
    "# Examinando Precisión vs Puntaje"
   ]
  },
  {
   "cell_type": "code",
   "execution_count": null,
   "metadata": {},
   "outputs": [],
   "source": [
    "data = P.leer_datos([12],[1],[0], verb=False)\n",
    "ids = data.Identificador.unique().tolist()[4]\n",
    "df = data[data['Identificador'] == ids].groupby('Ronda')['Estado'].sum().reset_index(name='Attendance')\n",
    "sns.lineplot(x='Ronda',y='Attendance',data=df)"
   ]
  },
  {
   "cell_type": "code",
   "execution_count": null,
   "metadata": {},
   "outputs": [],
   "source": [
    "data1 = P.leer_datos([12],[1],[0], verb=False)\n",
    "data1['Modelo'] = '1 predictor'\n",
    "data2 = P.leer_datos([12],[12],[0], verb=False)\n",
    "data2['Modelo'] = '12 predictor'\n",
    "data = pd.concat([data1,data2])\n",
    "G.comparar_desemp(data)"
   ]
  },
  {
   "cell_type": "code",
   "execution_count": null,
   "metadata": {},
   "outputs": [],
   "source": [
    "data = P.leer_datos([12],[12],[0],verb=False)\n",
    "df = data.groupby(['Identificador','Ronda']).agg({\n",
    "    'Puntaje':'mean',\n",
    "    'Precision':'mean'\n",
    "}).reset_index()\n",
    "sns.lineplot(y='Precision',x='Ronda',data=df)"
   ]
  },
  {
   "cell_type": "markdown",
   "metadata": {},
   "source": [
    "A pesar de que el modelo está diseñado para que los agentes escojan el predictor más preciso, el promedio de la precisión disminuye a medida que aumentan las rondas. No obstante, el promedio de la precisión converge. Entonces esta disminución de la precisión puede deberse a la manera en que se mide la precisión."
   ]
  },
  {
   "cell_type": "code",
   "execution_count": null,
   "metadata": {
    "scrolled": false
   },
   "outputs": [],
   "source": [
    "data = P.leer_datos([12],[1],[0],verb=False)\n",
    "dfA = pd.DataFrame(data[data['Ronda'] > data['Ronda'].max()*.8])\n",
    "df = dfA.groupby(['Identificador', 'Ronda']).agg({'Puntaje':'mean',\n",
    "                                                  'Precision':'mean'}).reset_index()\n",
    "sns.scatterplot(x='Precision',y='Puntaje',data=df, alpha=.5, marker='+')\n",
    "#sns.regplot(x='Precision',y='Puntaje',data=df)"
   ]
  },
  {
   "cell_type": "code",
   "execution_count": null,
   "metadata": {},
   "outputs": [],
   "source": [
    "data = P.leer_datos([12],[12],[0],verb=False)\n",
    "dfA = pd.DataFrame(data[data['Ronda'] > data['Ronda'].max()*.8])\n",
    "df = dfA.groupby(['Identificador', 'Ronda']).agg({'Puntaje':'mean',\n",
    "                                                  'Precision':'mean'}).reset_index()\n",
    "sns.scatterplot(x='Precision',y='Puntaje',data=df, alpha=.5, marker='+')\n",
    "#sns.regplot(x='Precision',y='Puntaje',data=df)"
   ]
  },
  {
   "cell_type": "markdown",
   "metadata": {},
   "source": [
    "Sin importar la memoria o el número de predictores, cuanto mayor la precisión promedio de los predictores, menor es el puntaje promedio."
   ]
  },
  {
   "cell_type": "code",
   "execution_count": null,
   "metadata": {},
   "outputs": [],
   "source": [
    "data = P.leer_datos([12],[12],[0],verb=False)\n",
    "dfA = pd.DataFrame(data[data['Ronda'] > data['Ronda'].max()*.8])\n",
    "df = dfA.groupby(['Identificador', 'Ronda']).agg({'Estado':'std',\n",
    "                                                  'Precision':'mean'}).reset_index()\n",
    "sns.scatterplot(x='Precision',y='Estado',data=df, alpha=.5, marker='+')"
   ]
  },
  {
   "cell_type": "markdown",
   "metadata": {},
   "source": [
    "A medida que aumenta el promedio de la precisión, también aumenta la uniformidad de las decisiones de los agentes."
   ]
  },
  {
   "cell_type": "markdown",
   "metadata": {},
   "source": [
    "# Compara dos modelos"
   ]
  },
  {
   "cell_type": "code",
   "execution_count": null,
   "metadata": {
    "scrolled": false
   },
   "outputs": [],
   "source": [
    "data1 = P.leer_datos([12],[1],[0], verb=False)\n",
    "data1['Modelo'] = '1-pred'\n",
    "data2 = P.leer_datos([12],[12],[0], verb=False)\n",
    "data2['Modelo'] = '12-pred'\n",
    "data = pd.concat([data1,data2])\n",
    "G.comparar_desemp(data)"
   ]
  },
  {
   "cell_type": "markdown",
   "metadata": {},
   "source": [
    "El promedio del `Attendance` es más cercano al 60% para el modelo con 12 predictores que el de 1 predictor. No obstante, la desviación estándar del primero es mayor que la del segundo.\n",
    "\n",
    "La asistencia de cada agente en las últimas 20 rondas gira en torno a $.6\\times 20$ para el modelo con 12 predictores. Por el contrario, para el modelo con 1 solo predictor la mitad de los agentes van todas las rondas y los demás entre 0 y 10.\n",
    "\n",
    "La distribución de los puntajes es más uniforme (equitativa) para el modelo con 12 predictores, pero los puntajes tienden a ser menores que para el modelo con 1 solo predictor."
   ]
  },
  {
   "cell_type": "markdown",
   "metadata": {},
   "source": [
    "# Compara espejos y sin espejos"
   ]
  },
  {
   "cell_type": "code",
   "execution_count": null,
   "metadata": {},
   "outputs": [],
   "source": [
    "data1 = P.leer_datos([12],[1],[0], verb=False)\n",
    "data1['Modelo'] = 'Con espejos'\n",
    "data2 = P.leer_datos([12],[1],[0], verb=False, espejos=False)\n",
    "data2['Modelo'] = 'Sin espejos'\n",
    "data = pd.concat([data1,data2])\n",
    "G.comparar_desemp(data)"
   ]
  },
  {
   "cell_type": "code",
   "execution_count": null,
   "metadata": {},
   "outputs": [],
   "source": [
    "data1 = P.leer_datos([12],[12],[0], verb=False)\n",
    "data1['Modelo'] = 'Con espejos'\n",
    "data2 = P.leer_datos([12],[12],[0], verb=False, espejos=False)\n",
    "data2['Modelo'] = 'Sin espejos'\n",
    "data = pd.concat([data1,data2])\n",
    "G.comparar_desemp(data)"
   ]
  },
  {
   "cell_type": "markdown",
   "metadata": {},
   "source": [
    "Es mejor tener espejos, tanto en desviación estándar del `Attendance` como en el `Efficiency`."
   ]
  },
  {
   "cell_type": "code",
   "execution_count": null,
   "metadata": {},
   "outputs": [],
   "source": [
    "data1 = P.leer_datos([12],[1],[0], verb=False)\n",
    "dfA = pd.DataFrame(data1[data1['Ronda']>int(max(data1.Ronda)*.8)])\n",
    "df1 = pd.DataFrame(dfA.groupby('Politica').agg({'Precision':'mean', 'Puntaje':'mean', 'Estado':'mean'}).reset_index())\n",
    "df1['Espejo'] = df1['Politica'].apply(lambda x:'Sí' if 'espejo' in x else 'No')\n",
    "\n",
    "data2 = P.leer_datos([12],[1],[0], verb=False, espejos=False)\n",
    "dfB = pd.DataFrame(data2[data2['Ronda']>int(max(data2.Ronda)*.8)])\n",
    "df2 = pd.DataFrame(dfB.groupby('Politica').agg({'Precision':'mean', 'Puntaje':'mean', 'Estado':'mean'}).reset_index())\n",
    "\n",
    "fig, ax = plt.subplots(3,2, figsize=(6,9), tight_layout=True) \n",
    "\n",
    "\n",
    "sns.scatterplot(x='Precision',y='Puntaje',hue='Espejo',\n",
    "                data=df1,alpha=0.25,marker='+',ax=ax[0,0])\n",
    "\n",
    "sns.scatterplot(x='Precision',y='Puntaje',\n",
    "                data=df2,alpha=0.25,marker='+',ax=ax[0,1])\n",
    "\n",
    "\n",
    "sns.scatterplot(x='Estado',y='Puntaje',hue='Espejo',\n",
    "                data=df1,alpha=0.25,marker='+',ax=ax[1,0])\n",
    "\n",
    "sns.scatterplot(x='Estado',y='Puntaje',\n",
    "                data=df2,alpha=0.25,marker='+',ax=ax[1,1])\n",
    "\n",
    "sns.scatterplot(x='Estado',y='Precision',hue='Espejo',\n",
    "                data=df1,alpha=0.25,marker='+',ax=ax[2,0])\n",
    "\n",
    "sns.scatterplot(x='Estado',y='Precision',\n",
    "                data=df2,alpha=0.25,marker='+',ax=ax[2,1])\n"
   ]
  },
  {
   "cell_type": "code",
   "execution_count": null,
   "metadata": {},
   "outputs": [],
   "source": [
    "data1 = P.leer_datos([12],[12],[0], verb=False)\n",
    "dfA = pd.DataFrame(data1[data1['Ronda']>int(max(data1.Ronda)*.8)])\n",
    "df1 = pd.DataFrame(dfA.groupby('Politica').agg({'Precision':'mean', 'Puntaje':'mean', 'Estado':'mean'}).reset_index())\n",
    "df1['Espejo'] = df1['Politica'].apply(lambda x:'Sí' if 'espejo' in x else 'No')\n",
    "\n",
    "data2 = P.leer_datos([12],[12],[0], verb=False, espejos=False)\n",
    "dfB = pd.DataFrame(data2[data2['Ronda']>int(max(data2.Ronda)*.8)])\n",
    "df2 = pd.DataFrame(dfB.groupby('Politica').agg({'Precision':'mean', 'Puntaje':'mean', 'Estado':'mean'}).reset_index())\n",
    "\n",
    "fig, ax = plt.subplots(3,2, figsize=(6,9), tight_layout=True) \n",
    "\n",
    "\n",
    "sns.scatterplot(x='Precision',y='Puntaje',hue='Espejo',\n",
    "                data=df1,alpha=0.25,marker='+',ax=ax[0,0])\n",
    "\n",
    "sns.scatterplot(x='Precision',y='Puntaje',\n",
    "                data=df2,alpha=0.25,marker='+',ax=ax[0,1])\n",
    "\n",
    "\n",
    "sns.scatterplot(x='Estado',y='Puntaje',hue='Espejo',\n",
    "                data=df1,alpha=0.25,marker='+',ax=ax[1,0])\n",
    "\n",
    "sns.scatterplot(x='Estado',y='Puntaje',\n",
    "                data=df2,alpha=0.25,marker='+',ax=ax[1,1])\n",
    "\n",
    "sns.scatterplot(x='Estado',y='Precision',hue='Espejo',\n",
    "                data=df1,alpha=0.25,marker='+',ax=ax[2,0])\n",
    "\n",
    "sns.scatterplot(x='Estado',y='Precision',\n",
    "                data=df2,alpha=0.25,marker='+',ax=ax[2,1])\n"
   ]
  },
  {
   "cell_type": "markdown",
   "metadata": {},
   "source": [
    "COMPARAR COMPORTAMIENTO DE ACUERDO A CANTIDAD DE ESTRATEGIAS USADAS."
   ]
  },
  {
   "cell_type": "markdown",
   "metadata": {},
   "source": [
    "# Distintos modelos aleatorios"
   ]
  },
  {
   "cell_type": "code",
   "execution_count": null,
   "metadata": {},
   "outputs": [],
   "source": [
    "data = P.leer_datos_aleatorio([.4,.45,.5,.55,.6,.65],[0],[100,500,1000,2000],verb=False)\n",
    "G.graficar_heatmaps(data, parametros=['Prob','Num_agentes'])\n"
   ]
  },
  {
   "cell_type": "markdown",
   "metadata": {},
   "source": [
    "El promedio del `Attendance` va aumentando a medida que aumenta la probabilidad. El número de agentes no parece tener efecto sobre este promedio.\n",
    "\n",
    "La desviación estándar del `Attendance` hace una especie de cuencia en los extremos de la probabilidad. El número de agentes no parece tener efecto sobre esta desviación (sin embargo, sí hay cambio, pero es muy pequeño; ver abajo). \n",
    "\n",
    "La peor `Efficiency` es cuando la probabilidad supera el umbral y cuando se acerca por encima a éste. Es máxima cuando la probabilidad es 0.55 y la cantidad de agentes es 2000."
   ]
  },
  {
   "cell_type": "code",
   "execution_count": null,
   "metadata": {},
   "outputs": [],
   "source": [
    "data = P.leer_datos_aleatorio([.4,.45,.5,.55,.6,.65],[0],[100],verb=False)\n",
    "data['Modelo'] = data['Prob']\n",
    "G.comparacion(data)"
   ]
  },
  {
   "cell_type": "markdown",
   "metadata": {},
   "source": [
    "Al variar la probabilidad, se observa que el promedio del `Attendance` depende directamente de esta probabilidad. La variación cambia, pero muy poco. La eficiencia sube hasta un pico en $p=.5$ y luego disminuye drásticamente."
   ]
  },
  {
   "cell_type": "code",
   "execution_count": null,
   "metadata": {},
   "outputs": [],
   "source": [
    "data = P.leer_datos_aleatorio([.55],[0],[100,500,1000,2000],verb=False)\n",
    "data['Modelo'] = data['Num_agentes']\n",
    "G.comparacion(data)"
   ]
  },
  {
   "cell_type": "markdown",
   "metadata": {},
   "source": [
    "Cuando $p=.5$, la desviación estándar del `Attendance` disminuye un poco a medida que aumenta la cantidad de agentes. La `Efficiency` aumenta a medida que aumenta la cantidad de agentes."
   ]
  },
  {
   "cell_type": "code",
   "execution_count": null,
   "metadata": {},
   "outputs": [],
   "source": [
    "data = P.leer_datos_aleatorio([.6],[0],[100,500,1000,2000],verb=False)\n",
    "data['Modelo'] = data['Num_agentes']\n",
    "G.comparacion(data)"
   ]
  },
  {
   "cell_type": "markdown",
   "metadata": {},
   "source": [
    "Cuando la probabilidad es $p=.6$, y a pesar de que la desviación disminuye cuando aumenta el número de agentes, la `Efficiency` del modelo es menor que con probabilidades $p<.6$. Aparentemente, la `Efficiency` de $p=.6$ es igual a la de $p=0$. Esto muestra que una concurrencia cerca a la frontera representa demasiado riesgo para los agentes."
   ]
  },
  {
   "cell_type": "code",
   "execution_count": null,
   "metadata": {},
   "outputs": [],
   "source": [
    "data1 = P.leer_datos_aleatorio([.55],[0],[2000], verb=False)\n",
    "data1['Modelo'] = 'N=2k;p=.55'\n",
    "data2 = P.leer_datos_aleatorio([.6],[0],[100], verb=False)\n",
    "data2['Modelo'] = 'N=100;p=.6'\n",
    "data = pd.concat([data1,data2])\n",
    "G.comparar_desemp(data)"
   ]
  },
  {
   "cell_type": "markdown",
   "metadata": {},
   "source": [
    "# Comparando Arthur vs Aleatorio"
   ]
  },
  {
   "cell_type": "code",
   "execution_count": null,
   "metadata": {
    "scrolled": false
   },
   "outputs": [],
   "source": [
    "data1 = P.leer_datos([12],[1],[0], verb=False)\n",
    "data1['Modelo'] = 'Arthur'\n",
    "data2 = P.leer_datos_aleatorio([.6],[0],[100],verb=False)\n",
    "data2['Modelo'] = 'Aleatorio'\n",
    "data = pd.concat([data1,data2])\n",
    "G.comparar_desemp(data)"
   ]
  },
  {
   "cell_type": "markdown",
   "metadata": {},
   "source": [
    "Es muchísimo mejor el modelo aleatorio en todos los indicadores respecto a un modelo con memoria 12 y con 1 predictor."
   ]
  },
  {
   "cell_type": "code",
   "execution_count": null,
   "metadata": {},
   "outputs": [],
   "source": [
    "data1 = P.leer_datos([12],[12],[0], verb=False)\n",
    "data1['Modelo'] = 'Arthur'\n",
    "data2 = P.leer_datos_aleatorio([.6],[0],[100],verb=False)\n",
    "data2['Modelo'] = 'Aleatorio'\n",
    "data = pd.concat([data1,data2])\n",
    "G.comparar_desemp(data)"
   ]
  },
  {
   "cell_type": "markdown",
   "metadata": {},
   "source": [
    "# Comparación mejor Arthur vs mejor Aleatorio"
   ]
  },
  {
   "cell_type": "code",
   "execution_count": null,
   "metadata": {},
   "outputs": [],
   "source": [
    "data1 = P.leer_datos([12],[1],[0], verb=False)\n",
    "data1['Modelo'] = 'Arthur'\n",
    "data2 = P.leer_datos_aleatorio([.55],[0],[2000], verb=False)\n",
    "data2['Modelo'] = 'N=2k;p=.55'\n",
    "data = pd.concat([data1,data2])\n",
    "G.comparar_desemp(data)"
   ]
  },
  {
   "cell_type": "code",
   "execution_count": null,
   "metadata": {},
   "outputs": [],
   "source": []
  },
  {
   "cell_type": "code",
   "execution_count": null,
   "metadata": {},
   "outputs": [],
   "source": []
  },
  {
   "cell_type": "markdown",
   "metadata": {},
   "source": [
    "---"
   ]
  },
  {
   "cell_type": "markdown",
   "metadata": {},
   "source": [
    "# Simulaciones individuales"
   ]
  },
  {
   "cell_type": "code",
   "execution_count": null,
   "metadata": {
    "scrolled": false
   },
   "outputs": [],
   "source": [
    "data = P.leer_datos([1],[1],[0],verb=False)\n",
    "G.graficar_desemp(data)"
   ]
  },
  {
   "cell_type": "markdown",
   "metadata": {},
   "source": [
    "# Variando conectividad"
   ]
  },
  {
   "cell_type": "code",
   "execution_count": null,
   "metadata": {},
   "outputs": [],
   "source": [
    "data = P.leer_datos([9],[3],[0, .004, .006, .008, .01, .03],verb=False)\n",
    "data['Modelo'] = data['Num_predic']\n",
    "G.comparacion(data)"
   ]
  },
  {
   "cell_type": "code",
   "execution_count": null,
   "metadata": {},
   "outputs": [],
   "source": []
  },
  {
   "cell_type": "code",
   "execution_count": null,
   "metadata": {},
   "outputs": [],
   "source": []
  }
 ],
 "metadata": {
  "kernelspec": {
   "display_name": "Python 3",
   "language": "python",
   "name": "python3"
  },
  "language_info": {
   "codemirror_mode": {
    "name": "ipython",
    "version": 3
   },
   "file_extension": ".py",
   "mimetype": "text/x-python",
   "name": "python",
   "nbconvert_exporter": "python",
   "pygments_lexer": "ipython3",
   "version": "3.9.7"
  }
 },
 "nbformat": 4,
 "nbformat_minor": 4
}
