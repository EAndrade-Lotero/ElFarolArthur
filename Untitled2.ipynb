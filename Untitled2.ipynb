{
 "cells": [
  {
   "cell_type": "code",
   "execution_count": 1,
   "metadata": {},
   "outputs": [
    {
     "name": "stdout",
     "output_type": "stream",
     "text": [
      "Importando paquetes...\n",
      "Listo!\n"
     ]
    }
   ],
   "source": [
    "import ElFarol_Arthur as E\n",
    "import pandas as pd\n",
    "import numpy as np\n",
    "import seaborn as sns\n",
    "import matplotlib.pyplot as plt"
   ]
  },
  {
   "cell_type": "code",
   "execution_count": 2,
   "metadata": {},
   "outputs": [],
   "source": [
    "num_agentes = 3\n",
    "num_rondas = 3\n",
    "umbral = .6\n",
    "num_predictores = 12\n",
    "long_memoria = 12\n",
    "bar = E.simulacion(num_agentes,umbral,long_memoria,num_predictores,\n",
    "                   num_rondas,DEB=False,to_file=False)"
   ]
  },
  {
   "cell_type": "code",
   "execution_count": 10,
   "metadata": {},
   "outputs": [
    {
     "name": "stdout",
     "output_type": "stream",
     "text": [
      "********************\n",
      "Ronda 0 --- 3\n",
      "********************\n",
      "1 // 4-ventana(66)         -> 3 -> ( nan => 2.0 )\n",
      "1 // 7-ciclico-espejo(51)  -> 0 -> ( nan => 1.0 )\n",
      "1 // 5-ciclico(79)         -> 3 -> ( nan => 2.0 )\n",
      "********************\n",
      "Ronda 1 --- 1\n",
      "********************\n",
      "0 // 12-ventana-espejo(64) -> 1 -> ( 1.0 => 1.5 )\n",
      "1 // 3-ventana-espejo(37)  -> 1 -> ( 1.0 => 1.5 )\n",
      "0 // 5-ventana-espejo(55)  -> 1 -> ( 1.0 => 1.5 )\n",
      "********************\n",
      "Ronda 2 --- 3\n",
      "********************\n",
      "1 // 7-ciclico-espejo(44)  -> 0 -> ( 1.0 => 1.6666666666666667 )\n",
      "1 // 7-ciclico-espejo(51)  -> 0 -> ( 1.0 => 1.6666666666666667 )\n",
      "1 // 10-ciclico-espejo(13) -> 0 -> ( 1.0 => 1.6666666666666667 )\n"
     ]
    }
   ],
   "source": [
    "longitud = max([len(str(p)) for p in bar.predictores])\n",
    "for i in range(num_rondas):\n",
    "    print('*'*20)\n",
    "    print('Ronda', i, '---', bar.historia[i])\n",
    "    print('*'*20)\n",
    "    for a in bar.agentes:\n",
    "        p = a.predictor_activo[i]\n",
    "        print(a.estado[i], '//', p, \n",
    "              ' '*(longitud-len(str(p))) + '->', p.prediccion[i], \n",
    "              '-> (', p.precision[i], '=>', p.precision[i+1], ')')"
   ]
  },
  {
   "cell_type": "code",
   "execution_count": 4,
   "metadata": {},
   "outputs": [],
   "source": [
    "data = bar.crea_dataframe_agentes()\n",
    "data['Asistencia'] = data.groupby('Ronda')['Estado'].transform('sum')\n",
    "data['Estado_lead'] = data.groupby('Agente')['Estado'].transform('shift',-1)\n",
    "data['Asistencia_lead'] = data.groupby('Agente')['Asistencia'].transform('shift',-1)"
   ]
  },
  {
   "cell_type": "code",
   "execution_count": 5,
   "metadata": {},
   "outputs": [
    {
     "data": {
      "text/plain": [
       "[nan, 2.0, 1.5, 1.3333333333333333]"
      ]
     },
     "execution_count": 5,
     "metadata": {},
     "output_type": "execute_result"
    }
   ],
   "source": [
    "bar.agentes[2].predictores[0].precision"
   ]
  },
  {
   "cell_type": "code",
   "execution_count": 11,
   "metadata": {},
   "outputs": [
    {
     "data": {
      "text/html": [
       "<div>\n",
       "<style scoped>\n",
       "    .dataframe tbody tr th:only-of-type {\n",
       "        vertical-align: middle;\n",
       "    }\n",
       "\n",
       "    .dataframe tbody tr th {\n",
       "        vertical-align: top;\n",
       "    }\n",
       "\n",
       "    .dataframe thead th {\n",
       "        text-align: right;\n",
       "    }\n",
       "</style>\n",
       "<table border=\"1\" class=\"dataframe\">\n",
       "  <thead>\n",
       "    <tr style=\"text-align: right;\">\n",
       "      <th></th>\n",
       "      <th>Ronda</th>\n",
       "      <th>Asistencia</th>\n",
       "      <th>Estado</th>\n",
       "      <th>Politica</th>\n",
       "      <th>Prediccion</th>\n",
       "      <th>Estado_lead</th>\n",
       "      <th>Asistencia_lead</th>\n",
       "      <th>Precision</th>\n",
       "    </tr>\n",
       "  </thead>\n",
       "  <tbody>\n",
       "    <tr>\n",
       "      <th>2</th>\n",
       "      <td>2</td>\n",
       "      <td>3</td>\n",
       "      <td>1</td>\n",
       "      <td>7-ciclico-espejo(44)</td>\n",
       "      <td>0</td>\n",
       "      <td>NaN</td>\n",
       "      <td>NaN</td>\n",
       "      <td>1.0</td>\n",
       "    </tr>\n",
       "    <tr>\n",
       "      <th>5</th>\n",
       "      <td>2</td>\n",
       "      <td>3</td>\n",
       "      <td>1</td>\n",
       "      <td>7-ciclico-espejo(51)</td>\n",
       "      <td>0</td>\n",
       "      <td>NaN</td>\n",
       "      <td>NaN</td>\n",
       "      <td>1.0</td>\n",
       "    </tr>\n",
       "    <tr>\n",
       "      <th>8</th>\n",
       "      <td>2</td>\n",
       "      <td>3</td>\n",
       "      <td>1</td>\n",
       "      <td>10-ciclico-espejo(13)</td>\n",
       "      <td>0</td>\n",
       "      <td>NaN</td>\n",
       "      <td>NaN</td>\n",
       "      <td>1.0</td>\n",
       "    </tr>\n",
       "  </tbody>\n",
       "</table>\n",
       "</div>"
      ],
      "text/plain": [
       "   Ronda  Asistencia  Estado               Politica  Prediccion  Estado_lead  \\\n",
       "2      2           3       1   7-ciclico-espejo(44)           0          NaN   \n",
       "5      2           3       1   7-ciclico-espejo(51)           0          NaN   \n",
       "8      2           3       1  10-ciclico-espejo(13)           0          NaN   \n",
       "\n",
       "   Asistencia_lead  Precision  \n",
       "2              NaN        1.0  \n",
       "5              NaN        1.0  \n",
       "8              NaN        1.0  "
      ]
     },
     "execution_count": 11,
     "metadata": {},
     "output_type": "execute_result"
    }
   ],
   "source": [
    "ronda = 2\n",
    "df = pd.DataFrame(data[data['Ronda']==ronda])\n",
    "df[['Ronda','Asistencia','Estado','Politica','Prediccion','Estado_lead','Asistencia_lead','Precision']]"
   ]
  },
  {
   "cell_type": "code",
   "execution_count": null,
   "metadata": {},
   "outputs": [],
   "source": []
  },
  {
   "cell_type": "code",
   "execution_count": null,
   "metadata": {},
   "outputs": [],
   "source": []
  },
  {
   "cell_type": "code",
   "execution_count": null,
   "metadata": {},
   "outputs": [],
   "source": []
  },
  {
   "cell_type": "code",
   "execution_count": null,
   "metadata": {},
   "outputs": [],
   "source": []
  },
  {
   "cell_type": "code",
   "execution_count": 12,
   "metadata": {},
   "outputs": [],
   "source": [
    "num_agentes = 100\n",
    "num_rondas = 100\n",
    "umbral = .6\n",
    "num_predictores = 1\n",
    "long_memoria = 12\n",
    "bar1 = E.simulacion(num_agentes,umbral,long_memoria,num_predictores,\n",
    "                    num_rondas,DEB=False,to_file=False)"
   ]
  },
  {
   "cell_type": "code",
   "execution_count": 13,
   "metadata": {},
   "outputs": [],
   "source": [
    "num_agentes = 100\n",
    "num_rondas = 100\n",
    "umbral = .6\n",
    "num_predictores = 12\n",
    "long_memoria = 12\n",
    "bar2 = E.simulacion(num_agentes,umbral,long_memoria,num_predictores,\n",
    "                    num_rondas,DEB=False,to_file=False)"
   ]
  },
  {
   "cell_type": "code",
   "execution_count": 14,
   "metadata": {},
   "outputs": [
    {
     "name": "stdout",
     "output_type": "stream",
     "text": [
      "Std predicciones de todos los predictores: 14.73976834875829\n",
      "Std predicciones de predictores activos: 14.73976834875829\n"
     ]
    },
    {
     "data": {
      "text/plain": [
       "<AxesSubplot:ylabel='Count'>"
      ]
     },
     "execution_count": 14,
     "metadata": {},
     "output_type": "execute_result"
    },
    {
     "data": {
      "image/png": "[encoded data removed]",
      "text/plain": [
       "<Figure size 432x216 with 2 Axes>"
      ]
     },
     "metadata": {
      "needs_background": "light"
     },
     "output_type": "display_data"
    }
   ],
   "source": [
    "ronda = 34\n",
    "agentes = bar1.agentes\n",
    "predictores = [a.predictores for a in agentes]\n",
    "predictores = [p for sublist in predictores for p in sublist]\n",
    "predictores = list(set(predictores))\n",
    "predictores_activos1 = [a.predictor_activo[ronda] for a in agentes]\n",
    "predictores_activos = list(set(predictores_activos1))\n",
    "\n",
    "predicciones = [p.prediccion[ronda] for p in predictores]\n",
    "predicciones_activos = [p.prediccion[ronda] for p in predictores_activos]\n",
    "\n",
    "print('Std predicciones de todos los predictores:', np.std(predicciones))\n",
    "print('Std predicciones de predictores activos:', np.std(predicciones_activos))\n",
    "\n",
    "fig, ax = plt.subplots(1,2, figsize=(6,3))\n",
    "sns.histplot(predicciones, ax=ax[0], bins=20)\n",
    "sns.histplot(predicciones_activos, ax=ax[1], bins=20)"
   ]
  },
  {
   "cell_type": "code",
   "execution_count": 15,
   "metadata": {},
   "outputs": [
    {
     "name": "stdout",
     "output_type": "stream",
     "text": [
      "Std predicciones de todos los predictores: 15.825612152457166\n",
      "Std predicciones de predictores activos: 12.436431157876376\n"
     ]
    },
    {
     "data": {
      "text/plain": [
       "<AxesSubplot:ylabel='Count'>"
      ]
     },
     "execution_count": 15,
     "metadata": {},
     "output_type": "execute_result"
    },
    {
     "data": {
      "image/png": "[encoded data removed]",
      "text/plain": [
       "<Figure size 432x216 with 2 Axes>"
      ]
     },
     "metadata": {
      "needs_background": "light"
     },
     "output_type": "display_data"
    }
   ],
   "source": [
    "ronda = 34\n",
    "agentes = bar2.agentes\n",
    "predictores = [a.predictores for a in agentes]\n",
    "predictores = [p for sublist in predictores for p in sublist]\n",
    "predictores = list(set(predictores))\n",
    "predictores_activos1 = [a.predictor_activo[ronda] for a in agentes]\n",
    "predictores_activos = list(set(predictores_activos1))\n",
    "\n",
    "predicciones = [p.prediccion[ronda] for p in predictores]\n",
    "predicciones_activos = [p.prediccion[ronda] for p in predictores_activos]\n",
    "\n",
    "print('Std predicciones de todos los predictores:', np.std(predicciones))\n",
    "print('Std predicciones de predictores activos:', np.std(predicciones_activos))\n",
    "\n",
    "fig, ax = plt.subplots(1,2, figsize=(6,3))\n",
    "sns.histplot(predicciones, ax=ax[0], bins=20)\n",
    "sns.histplot(predicciones_activos, ax=ax[1], bins=20)"
   ]
  },
  {
   "cell_type": "code",
   "execution_count": null,
   "metadata": {},
   "outputs": [],
   "source": []
  },
  {
   "cell_type": "code",
   "execution_count": null,
   "metadata": {},
   "outputs": [],
   "source": []
  },
  {
   "cell_type": "code",
   "execution_count": 30,
   "metadata": {},
   "outputs": [
    {
     "name": "stdout",
     "output_type": "stream",
     "text": [
      "# predictores: 100\n",
      "# predictores activos: 21\n",
      "Media de inaccuracy todos los predictores: 29.80416666666666\n",
      "Media de inaccuracy predictores activos: 25.78174603174603\n",
      "Cantidad agentes con predicción <= 60: 44\n",
      "Asistencia ronda anterior: 60\n"
     ]
    },
    {
     "data": {
      "text/plain": [
       "(0.0, 100.0)"
      ]
     },
     "execution_count": 30,
     "metadata": {},
     "output_type": "execute_result"
    },
    {
     "data": {
      "image/png": "[encoded data removed]",
      "text/plain": [
       "<Figure size 432x288 with 1 Axes>"
      ]
     },
     "metadata": {
      "needs_background": "light"
     },
     "output_type": "display_data"
    }
   ],
   "source": [
    "ronda = 43\n",
    "agentes = bar2.agentes\n",
    "predictores = [a.predictores for a in agentes]\n",
    "predictores = [p for sublist in predictores for p in sublist]\n",
    "predictores = list(set(predictores))\n",
    "rotulos_predictores = [str(p) for p in predictores]\n",
    "\n",
    "predictores_activos1 = [a.predictor_activo[ronda] for a in agentes]\n",
    "predictores_activos = list(set(predictores_activos1))\n",
    "rotulos_predictores_activos = [str(p) for p in predictores_activos]\n",
    "\n",
    "\n",
    "\n",
    "inaccs_todos = np.mean([p.precision[ronda+1] for p in predictores])\n",
    "inaccs_activos = np.mean([p.precision[ronda+1] for p in predictores_activos])\n",
    "\n",
    "#predicciones = [p.prediccion[ronda] for p in predictores_activos1]\n",
    "#precisiones = [p.precision[ronda] for p in predictores_activos1]\n",
    "\n",
    "predicciones = [p.prediccion[ronda] for p in predictores]\n",
    "precisiones = [p.precision[ronda] for p in predictores]\n",
    "\n",
    "numero = [val for val in predicciones if val <= 60]\n",
    "print('# predictores:', len(predictores))\n",
    "print('# predictores activos:', len(predictores_activos))\n",
    "print('Media de inaccuracy todos los predictores:', inaccs_todos)\n",
    "print('Media de inaccuracy predictores activos:', inaccs_activos)\n",
    "print('Cantidad agentes con predicción <= 60:', len(numero))\n",
    "print('Asistencia ronda anterior:',bar1.historia[ronda])\n",
    "\n",
    "data = pd.DataFrame({'Predictor':rotulos_predictores,\n",
    "                     'Prediccion':predicciones,\n",
    "                     'Inaccuracy':precisiones})\n",
    "data['Activo'] = data['Predictor'].apply(lambda x: 'Sí' if x in rotulos_predictores_activos else 'No')\n",
    "\n",
    "fig, ax = plt.subplots()\n",
    "sns.scatterplot(x='Inaccuracy', y='Prediccion', hue='Activo',\n",
    "               alpha=.8, marker='+', data=data)\n",
    "ax.set_xlim([20,50])\n",
    "ax.set_ylim([0,100])"
   ]
  },
  {
   "cell_type": "code",
   "execution_count": null,
   "metadata": {},
   "outputs": [],
   "source": [
    "ronda = 31\n",
    "agentes = bar2.agentes\n",
    "predictores = [a.predictores for a in agentes]\n",
    "predictores = [p for sublist in predictores for p in sublist]\n",
    "predictores = list(set(predictores))\n",
    "predictores_activos1 = [a.predictor_activo[ronda] for a in agentes]\n",
    "predictores_activos = list(set(predictores_activos1))\n",
    "\n",
    "rotulos = [str(p) for p in predictores]\n",
    "rotulos_activos = [str(p) for p in predictores_activos]\n",
    "[r for r in rotulos_activos if r not in rotulos]"
   ]
  },
  {
   "cell_type": "code",
   "execution_count": null,
   "metadata": {},
   "outputs": [],
   "source": []
  },
  {
   "cell_type": "code",
   "execution_count": null,
   "metadata": {},
   "outputs": [],
   "source": []
  },
  {
   "cell_type": "code",
   "execution_count": null,
   "metadata": {},
   "outputs": [],
   "source": []
  }
 ],
 "metadata": {
  "kernelspec": {
   "display_name": "Python 3",
   "language": "python",
   "name": "python3"
  },
  "language_info": {
   "codemirror_mode": {
    "name": "ipython",
    "version": 3
   },
   "file_extension": ".py",
   "mimetype": "text/x-python",
   "name": "python",
   "nbconvert_exporter": "python",
   "pygments_lexer": "ipython3",
   "version": "3.9.7"
  }
 },
 "nbformat": 4,
 "nbformat_minor": 4
}
