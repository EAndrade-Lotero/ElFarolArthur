{
 "cells": [
  {
   "cell_type": "markdown",
   "id": "9fd91f66",
   "metadata": {},
   "source": [
    "# Figure 2\n",
    "\n",
    "Variation of the measurements depending on the parameter $k$. The value of the performance measures is presented for a model with memory 12 ($d\\,{=}\\,12$) in which we have varied the number of predictors $k$ in the set of values $\\{1,3 ,6,9,12\\}$. In the first panel from left to right the \\texttt{Attendance} is presented, in the second the \\texttt{Efficiency}, in the third the \\texttt{Inaccuracy} and in the fourth the \\texttt{Deviation}. Error bars represent a 95\\% confidence interval."
   ]
  },
  {
   "cell_type": "code",
   "execution_count": 77,
   "id": "ae332f12",
   "metadata": {},
   "outputs": [],
   "source": [
    "import numpy as np\n",
    "import pandas as pd\n",
    "import seaborn as sns\n",
    "import matplotlib.pyplot as plt\n",
    "\n",
    "import warnings\n",
    "warnings.filterwarnings('ignore')\n",
    "\n",
    "import sys\n",
    "sys.path.append('../el_farol')\n",
    "\n",
    "from main import main\n",
    "from config import PATHS"
   ]
  },
  {
   "cell_type": "code",
   "execution_count": 78,
   "id": "fc74d6d4",
   "metadata": {},
   "outputs": [
    {
     "data": {
      "application/vnd.jupyter.widget-view+json": {
       "model_id": "d16f8e6a6da748b0bd8deb900acac150",
       "version_major": 2,
       "version_minor": 0
      },
      "text/plain": [
       "Running memory sweeps:   0%|          | 0/1 [00:00<?, ?it/s]"
      ]
     },
     "metadata": {},
     "output_type": "display_data"
    },
    {
     "data": {
      "application/vnd.jupyter.widget-view+json": {
       "model_id": "dd8dbfda65d64527a6579ddfcb26e603",
       "version_major": 2,
       "version_minor": 0
      },
      "text/plain": [
       "Running predictor sweeps:   0%|          | 0/5 [00:00<?, ?it/s]"
      ]
     },
     "metadata": {},
     "output_type": "display_data"
    },
    {
     "data": {
      "application/vnd.jupyter.widget-view+json": {
       "model_id": "0ce5103eeca148618a77f8afc14635ae",
       "version_major": 2,
       "version_minor": 0
      },
      "text/plain": [
       "Running agent sweeps:   0%|          | 0/1 [00:00<?, ?it/s]"
      ]
     },
     "metadata": {},
     "output_type": "display_data"
    },
    {
     "data": {
      "application/vnd.jupyter.widget-view+json": {
       "model_id": "0f9016ebde4e4f8394e1adb888a7e470",
       "version_major": 2,
       "version_minor": 0
      },
      "text/plain": [
       "Running round sweeps:   0%|          | 0/1 [00:00<?, ?it/s]"
      ]
     },
     "metadata": {},
     "output_type": "display_data"
    },
    {
     "data": {
      "application/vnd.jupyter.widget-view+json": {
       "model_id": "6219d0fd4bbd4b7d88d93f336ea5c85c",
       "version_major": 2,
       "version_minor": 0
      },
      "text/plain": [
       "Running experiments:   0%|          | 0/50 [00:00<?, ?it/s]"
      ]
     },
     "metadata": {},
     "output_type": "display_data"
    },
    {
     "data": {
      "application/vnd.jupyter.widget-view+json": {
       "model_id": "12f2e2bae89647d98dd54e45cdff8114",
       "version_major": 2,
       "version_minor": 0
      },
      "text/plain": [
       "Running agent sweeps:   0%|          | 0/1 [00:00<?, ?it/s]"
      ]
     },
     "metadata": {},
     "output_type": "display_data"
    },
    {
     "data": {
      "application/vnd.jupyter.widget-view+json": {
       "model_id": "cb43afaa353b41799777fcbd12fc8583",
       "version_major": 2,
       "version_minor": 0
      },
      "text/plain": [
       "Running round sweeps:   0%|          | 0/1 [00:00<?, ?it/s]"
      ]
     },
     "metadata": {},
     "output_type": "display_data"
    },
    {
     "data": {
      "application/vnd.jupyter.widget-view+json": {
       "model_id": "47500b0bf2514d6c8b4b0ccdb7635988",
       "version_major": 2,
       "version_minor": 0
      },
      "text/plain": [
       "Running experiments:   0%|          | 0/50 [00:00<?, ?it/s]"
      ]
     },
     "metadata": {},
     "output_type": "display_data"
    },
    {
     "data": {
      "application/vnd.jupyter.widget-view+json": {
       "model_id": "9eb9312995a449f59dc622fe503af249",
       "version_major": 2,
       "version_minor": 0
      },
      "text/plain": [
       "Running agent sweeps:   0%|          | 0/1 [00:00<?, ?it/s]"
      ]
     },
     "metadata": {},
     "output_type": "display_data"
    },
    {
     "data": {
      "application/vnd.jupyter.widget-view+json": {
       "model_id": "07332b4537594d3e99b5f226b3a22384",
       "version_major": 2,
       "version_minor": 0
      },
      "text/plain": [
       "Running round sweeps:   0%|          | 0/1 [00:00<?, ?it/s]"
      ]
     },
     "metadata": {},
     "output_type": "display_data"
    },
    {
     "data": {
      "application/vnd.jupyter.widget-view+json": {
       "model_id": "dfc7297288ec483591b890a5b431bda4",
       "version_major": 2,
       "version_minor": 0
      },
      "text/plain": [
       "Running experiments:   0%|          | 0/50 [00:00<?, ?it/s]"
      ]
     },
     "metadata": {},
     "output_type": "display_data"
    },
    {
     "data": {
      "application/vnd.jupyter.widget-view+json": {
       "model_id": "d2cea6b406fb4da58a39f9dd6824a843",
       "version_major": 2,
       "version_minor": 0
      },
      "text/plain": [
       "Running agent sweeps:   0%|          | 0/1 [00:00<?, ?it/s]"
      ]
     },
     "metadata": {},
     "output_type": "display_data"
    },
    {
     "data": {
      "application/vnd.jupyter.widget-view+json": {
       "model_id": "ebe6b51c8b9a455185ac8eea9a45fe8a",
       "version_major": 2,
       "version_minor": 0
      },
      "text/plain": [
       "Running round sweeps:   0%|          | 0/1 [00:00<?, ?it/s]"
      ]
     },
     "metadata": {},
     "output_type": "display_data"
    },
    {
     "data": {
      "application/vnd.jupyter.widget-view+json": {
       "model_id": "e16a9b66ff5e4d4085cc2426cf302f11",
       "version_major": 2,
       "version_minor": 0
      },
      "text/plain": [
       "Running experiments:   0%|          | 0/50 [00:00<?, ?it/s]"
      ]
     },
     "metadata": {},
     "output_type": "display_data"
    },
    {
     "data": {
      "application/vnd.jupyter.widget-view+json": {
       "model_id": "68e3f1de88c949f588b690f31270226f",
       "version_major": 2,
       "version_minor": 0
      },
      "text/plain": [
       "Running agent sweeps:   0%|          | 0/1 [00:00<?, ?it/s]"
      ]
     },
     "metadata": {},
     "output_type": "display_data"
    },
    {
     "data": {
      "application/vnd.jupyter.widget-view+json": {
       "model_id": "58a5237572684b68a8f3b4820c1a13d0",
       "version_major": 2,
       "version_minor": 0
      },
      "text/plain": [
       "Running round sweeps:   0%|          | 0/1 [00:00<?, ?it/s]"
      ]
     },
     "metadata": {},
     "output_type": "display_data"
    },
    {
     "data": {
      "application/vnd.jupyter.widget-view+json": {
       "model_id": "8642bbcafba04460a7c344f160e8607a",
       "version_major": 2,
       "version_minor": 0
      },
      "text/plain": [
       "Running experiments:   0%|          | 0/50 [00:00<?, ?it/s]"
      ]
     },
     "metadata": {},
     "output_type": "display_data"
    }
   ],
   "source": [
    "ks = [1, 3, 6, 9, 12]\n",
    "ds = [24]\n",
    "num_rounds = 200\n",
    "\n",
    "df = main(\n",
    "    ks=ks,\n",
    "    ds=ds,\n",
    "    num_rounds=num_rounds,\n",
    "    num_experiments=50,\n",
    "    seed=42\n",
    ")"
   ]
  },
  {
   "cell_type": "code",
   "execution_count": 79,
   "id": "d495d161",
   "metadata": {},
   "outputs": [
    {
     "data": {
      "text/html": [
       "<div>\n",
       "<style scoped>\n",
       "    .dataframe tbody tr th:only-of-type {\n",
       "        vertical-align: middle;\n",
       "    }\n",
       "\n",
       "    .dataframe tbody tr th {\n",
       "        vertical-align: top;\n",
       "    }\n",
       "\n",
       "    .dataframe thead th {\n",
       "        text-align: right;\n",
       "    }\n",
       "</style>\n",
       "<table border=\"1\" class=\"dataframe\">\n",
       "  <thead>\n",
       "    <tr style=\"text-align: right;\">\n",
       "      <th></th>\n",
       "      <th>index</th>\n",
       "      <th>Memory</th>\n",
       "      <th>Num_predictors</th>\n",
       "      <th>Identifier</th>\n",
       "      <th>Round</th>\n",
       "      <th>Agent</th>\n",
       "      <th>Decision</th>\n",
       "      <th>Score</th>\n",
       "      <th>Policy</th>\n",
       "      <th>Prediction</th>\n",
       "      <th>Inaccuracy</th>\n",
       "    </tr>\n",
       "  </thead>\n",
       "  <tbody>\n",
       "    <tr>\n",
       "      <th>180</th>\n",
       "      <td>180</td>\n",
       "      <td>24</td>\n",
       "      <td>1</td>\n",
       "      <td>0</td>\n",
       "      <td>180</td>\n",
       "      <td>0</td>\n",
       "      <td>1</td>\n",
       "      <td>1</td>\n",
       "      <td>11-cyclic-mirror</td>\n",
       "      <td>42</td>\n",
       "      <td>24.838889</td>\n",
       "    </tr>\n",
       "    <tr>\n",
       "      <th>181</th>\n",
       "      <td>181</td>\n",
       "      <td>24</td>\n",
       "      <td>1</td>\n",
       "      <td>0</td>\n",
       "      <td>181</td>\n",
       "      <td>0</td>\n",
       "      <td>1</td>\n",
       "      <td>-1</td>\n",
       "      <td>11-cyclic-mirror</td>\n",
       "      <td>34</td>\n",
       "      <td>24.878453</td>\n",
       "    </tr>\n",
       "  </tbody>\n",
       "</table>\n",
       "</div>"
      ],
      "text/plain": [
       "     index  Memory  Num_predictors  Identifier  Round  Agent  Decision  Score  \\\n",
       "180    180      24               1           0    180      0         1      1   \n",
       "181    181      24               1           0    181      0         1     -1   \n",
       "\n",
       "               Policy  Prediction  Inaccuracy  \n",
       "180  11-cyclic-mirror          42   24.838889  \n",
       "181  11-cyclic-mirror          34   24.878453  "
      ]
     },
     "execution_count": 79,
     "metadata": {},
     "output_type": "execute_result"
    }
   ],
   "source": [
    "# Keep only last 20 rounds\n",
    "dfE = df[df['Round'] >= int(0.9 * num_rounds)]\n",
    "dfE.head(2)"
   ]
  },
  {
   "cell_type": "code",
   "execution_count": 80,
   "id": "0dda5c26",
   "metadata": {},
   "outputs": [
    {
     "data": {
      "text/html": [
       "<div>\n",
       "<style scoped>\n",
       "    .dataframe tbody tr th:only-of-type {\n",
       "        vertical-align: middle;\n",
       "    }\n",
       "\n",
       "    .dataframe tbody tr th {\n",
       "        vertical-align: top;\n",
       "    }\n",
       "\n",
       "    .dataframe thead th {\n",
       "        text-align: right;\n",
       "    }\n",
       "</style>\n",
       "<table border=\"1\" class=\"dataframe\">\n",
       "  <thead>\n",
       "    <tr style=\"text-align: right;\">\n",
       "      <th></th>\n",
       "      <th></th>\n",
       "      <th></th>\n",
       "      <th>Attendance</th>\n",
       "      <th>Efficiency</th>\n",
       "      <th>Inaccuracy</th>\n",
       "      <th>Deviation</th>\n",
       "    </tr>\n",
       "    <tr>\n",
       "      <th>Identifier</th>\n",
       "      <th>Num_predictors</th>\n",
       "      <th>Memory</th>\n",
       "      <th></th>\n",
       "      <th></th>\n",
       "      <th></th>\n",
       "      <th></th>\n",
       "    </tr>\n",
       "  </thead>\n",
       "  <tbody>\n",
       "    <tr>\n",
       "      <th>0</th>\n",
       "      <th>1</th>\n",
       "      <th>24</th>\n",
       "      <td>0.6220</td>\n",
       "      <td>-0.1020</td>\n",
       "      <td>19.922147</td>\n",
       "      <td>0.102157</td>\n",
       "    </tr>\n",
       "    <tr>\n",
       "      <th>1</th>\n",
       "      <th>1</th>\n",
       "      <th>24</th>\n",
       "      <td>0.6175</td>\n",
       "      <td>-0.0975</td>\n",
       "      <td>19.096749</td>\n",
       "      <td>0.098228</td>\n",
       "    </tr>\n",
       "  </tbody>\n",
       "</table>\n",
       "</div>"
      ],
      "text/plain": [
       "                                  Attendance  Efficiency  Inaccuracy  \\\n",
       "Identifier Num_predictors Memory                                       \n",
       "0          1              24          0.6220     -0.1020   19.922147   \n",
       "1          1              24          0.6175     -0.0975   19.096749   \n",
       "\n",
       "                                  Deviation  \n",
       "Identifier Num_predictors Memory             \n",
       "0          1              24       0.102157  \n",
       "1          1              24       0.098228  "
      ]
     },
     "execution_count": 80,
     "metadata": {},
     "output_type": "execute_result"
    }
   ],
   "source": [
    "# Determine mean decision, score and inaccuracy per round\n",
    "df2B = dfE.groupby(['Identifier', 'Round', 'Num_predictors', 'Memory']).agg(\n",
    "    Attendance=pd.NamedAgg(column=\"Decision\", aggfunc=lambda x: np.mean(x.values)),\n",
    "    Efficiency=pd.NamedAgg(column=\"Score\", aggfunc=lambda x: np.mean(x.values)),\n",
    "    Inaccuracy=pd.NamedAgg(column=\"Inaccuracy\", aggfunc=lambda x: np.mean(x.values)),\n",
    ")\n",
    "# Get attendance, efficiency, inaccuracy and deviation\n",
    "df2C = df2B.groupby(['Identifier', 'Num_predictors', 'Memory']).agg(\n",
    "    Attendance=pd.NamedAgg(column=\"Attendance\", aggfunc=lambda x: np.mean(x.values)),\n",
    "    Efficiency=pd.NamedAgg(column=\"Efficiency\", aggfunc=lambda x: np.mean(x.values)),\n",
    "    Inaccuracy=pd.NamedAgg(column=\"Inaccuracy\", aggfunc=lambda x: np.mean(x.values)),\n",
    "    Deviation=pd.NamedAgg(column=\"Attendance\", aggfunc=lambda x: np.std(x.values)),\n",
    ")\n",
    "df2C.head(2)"
   ]
  },
  {
   "cell_type": "code",
   "execution_count": 81,
   "id": "50b72e7c",
   "metadata": {},
   "outputs": [
    {
     "data": {
      "image/png": "[encoded data removed]",
      "text/plain": [
       "<Figure size 1600x400 with 4 Axes>"
      ]
     },
     "metadata": {},
     "output_type": "display_data"
    }
   ],
   "source": [
    "fig, ax = plt.subplots(\n",
    "    1,4, \n",
    "    figsize=(16, 4), \n",
    "    tight_layout=True\n",
    ")\n",
    "\n",
    "variables = ['Attendance', 'Efficiency', 'Inaccuracy', 'Deviation']\n",
    "d = ds[0]\n",
    "\n",
    "for i, v in enumerate(variables):\n",
    "    sns.lineplot(\n",
    "        x='Num_predictors', y=v,\n",
    "        data=df2C,\n",
    "        ax=ax[i],\n",
    "        err_style=\"bars\",ci=95\n",
    "    )\n",
    "    ax[i].set_ylabel(v)\n",
    "    ax[i].set_xlabel('# of predictors (k)')\n",
    "    ax[i].set_title(f\"{v} (d={d})\")\n",
    "    ax[i].grid()"
   ]
  },
  {
   "cell_type": "code",
   "execution_count": 82,
   "id": "9793dd89",
   "metadata": {},
   "outputs": [],
   "source": [
    "file_name = PATHS['folder_figures_for_paper'] / 'Figure2.png'\n",
    "fig.savefig(file_name, dpi=300, bbox_inches='tight')"
   ]
  },
  {
   "cell_type": "markdown",
   "id": "ce12db87",
   "metadata": {},
   "source": [
    "---"
   ]
  }
 ],
 "metadata": {
  "kernelspec": {
   "display_name": "Python 3",
   "language": "python",
   "name": "python3"
  },
  "language_info": {
   "codemirror_mode": {
    "name": "ipython",
    "version": 3
   },
   "file_extension": ".py",
   "mimetype": "text/x-python",
   "name": "python",
   "nbconvert_exporter": "python",
   "pygments_lexer": "ipython3",
   "version": "3.9.6"
  }
 },
 "nbformat": 4,
 "nbformat_minor": 5
}
