{
 "cells": [
  {
   "cell_type": "markdown",
   "id": "9fd91f66",
   "metadata": {},
   "source": [
    "# Figure 2\n",
    "\n",
    "Variation of the measurements depending on the parameter $k$. The value of the performance measures is presented for a model with memory 12 ($d\\,{=}\\,12$) in which we have varied the number of predictors $k$ in the set of values $\\{1,3 ,6,9,12\\}$. In the first panel from left to right the \\texttt{Attendance} is presented, in the second the \\texttt{Efficiency}, in the third the \\texttt{Inaccuracy} and in the fourth the \\texttt{Deviation}. Error bars represent a 95\\% confidence interval."
   ]
  },
  {
   "cell_type": "code",
   "execution_count": 1,
   "id": "ae332f12",
   "metadata": {},
   "outputs": [],
   "source": [
    "import numpy as np\n",
    "import pandas as pd\n",
    "import seaborn as sns\n",
    "import matplotlib.pyplot as plt\n",
    "\n",
    "\n",
    "from tqdm.auto import tqdm\n",
    "\n",
    "import warnings\n",
    "warnings.filterwarnings('ignore')\n",
    "\n",
    "import sys\n",
    "sys.path.append('../el_farol')\n",
    "\n",
    "from sim_utils import InteractiveBar\n",
    "from data_utils import DataUtils\n",
    "from config import PATHS"
   ]
  },
  {
   "cell_type": "code",
   "execution_count": 2,
   "id": "fc74d6d4",
   "metadata": {},
   "outputs": [
    {
     "data": {
      "application/vnd.jupyter.widget-view+json": {
       "model_id": "9185cf2b6b5248fca85519f79bb6a8db",
       "version_major": 2,
       "version_minor": 0
      },
      "text/plain": [
       "Running memory sweeps:   0%|          | 0/2 [00:00<?, ?it/s]"
      ]
     },
     "metadata": {},
     "output_type": "display_data"
    },
    {
     "data": {
      "application/vnd.jupyter.widget-view+json": {
       "model_id": "a28fa1c294114bbe8c9002b998de3bfc",
       "version_major": 2,
       "version_minor": 0
      },
      "text/plain": [
       "Running predictor sweeps:   0%|          | 0/2 [00:00<?, ?it/s]"
      ]
     },
     "metadata": {},
     "output_type": "display_data"
    },
    {
     "data": {
      "application/vnd.jupyter.widget-view+json": {
       "model_id": "10bd4338f78f4f51afce2524e7b74508",
       "version_major": 2,
       "version_minor": 0
      },
      "text/plain": [
       "Running agent sweeps:   0%|          | 0/1 [00:00<?, ?it/s]"
      ]
     },
     "metadata": {},
     "output_type": "display_data"
    },
    {
     "data": {
      "application/vnd.jupyter.widget-view+json": {
       "model_id": "9033159cc6ff4377873a26c5cb34240d",
       "version_major": 2,
       "version_minor": 0
      },
      "text/plain": [
       "Running round sweeps:   0%|          | 0/1 [00:00<?, ?it/s]"
      ]
     },
     "metadata": {},
     "output_type": "display_data"
    },
    {
     "data": {
      "application/vnd.jupyter.widget-view+json": {
       "model_id": "a8268aad6d7c42658dfdef19d8b24a2e",
       "version_major": 2,
       "version_minor": 0
      },
      "text/plain": [
       "Running experiments:   0%|          | 0/5 [00:00<?, ?it/s]"
      ]
     },
     "metadata": {},
     "output_type": "display_data"
    },
    {
     "data": {
      "application/vnd.jupyter.widget-view+json": {
       "model_id": "6d76caaadbd14a15b4fd69eb9fab1457",
       "version_major": 2,
       "version_minor": 0
      },
      "text/plain": [
       "Running agent sweeps:   0%|          | 0/1 [00:00<?, ?it/s]"
      ]
     },
     "metadata": {},
     "output_type": "display_data"
    },
    {
     "data": {
      "application/vnd.jupyter.widget-view+json": {
       "model_id": "170da743c3e44d749dddf11d8b76956d",
       "version_major": 2,
       "version_minor": 0
      },
      "text/plain": [
       "Running round sweeps:   0%|          | 0/1 [00:00<?, ?it/s]"
      ]
     },
     "metadata": {},
     "output_type": "display_data"
    },
    {
     "data": {
      "application/vnd.jupyter.widget-view+json": {
       "model_id": "2b3dda8fe9ff46afb8a8f651bcc9abd0",
       "version_major": 2,
       "version_minor": 0
      },
      "text/plain": [
       "Running experiments:   0%|          | 0/5 [00:00<?, ?it/s]"
      ]
     },
     "metadata": {},
     "output_type": "display_data"
    },
    {
     "data": {
      "application/vnd.jupyter.widget-view+json": {
       "model_id": "8c890739b100414c951a76d3c5e0f549",
       "version_major": 2,
       "version_minor": 0
      },
      "text/plain": [
       "Running predictor sweeps:   0%|          | 0/2 [00:00<?, ?it/s]"
      ]
     },
     "metadata": {},
     "output_type": "display_data"
    },
    {
     "data": {
      "application/vnd.jupyter.widget-view+json": {
       "model_id": "2c7ef56570894240a7246abeb2e5ba01",
       "version_major": 2,
       "version_minor": 0
      },
      "text/plain": [
       "Running agent sweeps:   0%|          | 0/1 [00:00<?, ?it/s]"
      ]
     },
     "metadata": {},
     "output_type": "display_data"
    },
    {
     "data": {
      "application/vnd.jupyter.widget-view+json": {
       "model_id": "d10e1f050b6544a19b74e1ad21122b15",
       "version_major": 2,
       "version_minor": 0
      },
      "text/plain": [
       "Running round sweeps:   0%|          | 0/1 [00:00<?, ?it/s]"
      ]
     },
     "metadata": {},
     "output_type": "display_data"
    },
    {
     "data": {
      "application/vnd.jupyter.widget-view+json": {
       "model_id": "a5f6d4e1f0d744018a5a3580892470e5",
       "version_major": 2,
       "version_minor": 0
      },
      "text/plain": [
       "Running experiments:   0%|          | 0/5 [00:00<?, ?it/s]"
      ]
     },
     "metadata": {},
     "output_type": "display_data"
    },
    {
     "data": {
      "application/vnd.jupyter.widget-view+json": {
       "model_id": "e314e38950464c9fb628666485cd99f9",
       "version_major": 2,
       "version_minor": 0
      },
      "text/plain": [
       "Running agent sweeps:   0%|          | 0/1 [00:00<?, ?it/s]"
      ]
     },
     "metadata": {},
     "output_type": "display_data"
    },
    {
     "data": {
      "application/vnd.jupyter.widget-view+json": {
       "model_id": "c338e0d634674266a895fd4f4879a384",
       "version_major": 2,
       "version_minor": 0
      },
      "text/plain": [
       "Running round sweeps:   0%|          | 0/1 [00:00<?, ?it/s]"
      ]
     },
     "metadata": {},
     "output_type": "display_data"
    },
    {
     "data": {
      "application/vnd.jupyter.widget-view+json": {
       "model_id": "9d46666e839049ca8c2620261d337793",
       "version_major": 2,
       "version_minor": 0
      },
      "text/plain": [
       "Running experiments:   0%|          | 0/5 [00:00<?, ?it/s]"
      ]
     },
     "metadata": {},
     "output_type": "display_data"
    },
    {
     "data": {
      "text/html": [
       "<div>\n",
       "<style scoped>\n",
       "    .dataframe tbody tr th:only-of-type {\n",
       "        vertical-align: middle;\n",
       "    }\n",
       "\n",
       "    .dataframe tbody tr th {\n",
       "        vertical-align: top;\n",
       "    }\n",
       "\n",
       "    .dataframe thead th {\n",
       "        text-align: right;\n",
       "    }\n",
       "</style>\n",
       "<table border=\"1\" class=\"dataframe\">\n",
       "  <thead>\n",
       "    <tr style=\"text-align: right;\">\n",
       "      <th></th>\n",
       "      <th>index</th>\n",
       "      <th>Memory</th>\n",
       "      <th>Num_predictors</th>\n",
       "      <th>Identifier</th>\n",
       "      <th>Round</th>\n",
       "      <th>Agent</th>\n",
       "      <th>Decision</th>\n",
       "      <th>Score</th>\n",
       "      <th>Policy</th>\n",
       "      <th>Prediction</th>\n",
       "      <th>Inaccuracy</th>\n",
       "      <th>Model</th>\n",
       "    </tr>\n",
       "  </thead>\n",
       "  <tbody>\n",
       "    <tr>\n",
       "      <th>0</th>\n",
       "      <td>0</td>\n",
       "      <td>12</td>\n",
       "      <td>9</td>\n",
       "      <td>0</td>\n",
       "      <td>0</td>\n",
       "      <td>0</td>\n",
       "      <td>0</td>\n",
       "      <td>0</td>\n",
       "      <td>10-cyclic-mirror</td>\n",
       "      <td>49</td>\n",
       "      <td>NaN</td>\n",
       "      <td>9</td>\n",
       "    </tr>\n",
       "    <tr>\n",
       "      <th>1</th>\n",
       "      <td>1</td>\n",
       "      <td>12</td>\n",
       "      <td>9</td>\n",
       "      <td>0</td>\n",
       "      <td>1</td>\n",
       "      <td>0</td>\n",
       "      <td>1</td>\n",
       "      <td>-1</td>\n",
       "      <td>1-cyclic</td>\n",
       "      <td>75</td>\n",
       "      <td>49.0</td>\n",
       "      <td>9</td>\n",
       "    </tr>\n",
       "  </tbody>\n",
       "</table>\n",
       "</div>"
      ],
      "text/plain": [
       "   index  Memory  Num_predictors  Identifier  Round  Agent  Decision  Score  \\\n",
       "0      0      12               9           0      0      0         0      0   \n",
       "1      1      12               9           0      1      0         1     -1   \n",
       "\n",
       "             Policy  Prediction  Inaccuracy  Model  \n",
       "0  10-cyclic-mirror          49         NaN      9  \n",
       "1          1-cyclic          75        49.0      9  "
      ]
     },
     "execution_count": 2,
     "metadata": {},
     "output_type": "execute_result"
    }
   ],
   "source": [
    "# ks = [1, 3]\n",
    "# ds = [2, 4]\n",
    "ks = [9, 12]\n",
    "ds = [12, 24]\n",
    "# ks = [1, 3, 6, 9, 12]\n",
    "# ds = [2, 4, 6, 12, 24]\n",
    "\n",
    "num_rounds = 10\n",
    "num_episodes = 5\n",
    "\n",
    "df = InteractiveBar.run_sweep(\n",
    "    memories=ds,\n",
    "    predictors=ks,\n",
    "    num_experiments=num_episodes,\n",
    "    num_agents=[100],\n",
    "    threshold=0.6,\n",
    "    num_rounds=[num_rounds]\n",
    ").reset_index()\n",
    "df['Model'] = df['Num_predictors']\n",
    "\n",
    "df.head(2)"
   ]
  },
  {
   "cell_type": "code",
   "execution_count": 3,
   "id": "b2dc237c",
   "metadata": {},
   "outputs": [
    {
     "data": {
      "text/html": [
       "<div>\n",
       "<style scoped>\n",
       "    .dataframe tbody tr th:only-of-type {\n",
       "        vertical-align: middle;\n",
       "    }\n",
       "\n",
       "    .dataframe tbody tr th {\n",
       "        vertical-align: top;\n",
       "    }\n",
       "\n",
       "    .dataframe thead th {\n",
       "        text-align: right;\n",
       "    }\n",
       "</style>\n",
       "<table border=\"1\" class=\"dataframe\">\n",
       "  <thead>\n",
       "    <tr style=\"text-align: right;\">\n",
       "      <th></th>\n",
       "      <th>Model</th>\n",
       "      <th>Identifier</th>\n",
       "      <th>Efficiency</th>\n",
       "      <th>Inaccuracy</th>\n",
       "      <th>Attendance</th>\n",
       "      <th>Deviation</th>\n",
       "    </tr>\n",
       "  </thead>\n",
       "  <tbody>\n",
       "    <tr>\n",
       "      <th>0</th>\n",
       "      <td>9</td>\n",
       "      <td>0</td>\n",
       "      <td>-0.100</td>\n",
       "      <td>35.953280</td>\n",
       "      <td>0.364</td>\n",
       "      <td>0.309839</td>\n",
       "    </tr>\n",
       "    <tr>\n",
       "      <th>1</th>\n",
       "      <td>9</td>\n",
       "      <td>1</td>\n",
       "      <td>-0.432</td>\n",
       "      <td>38.471663</td>\n",
       "      <td>0.638</td>\n",
       "      <td>0.345189</td>\n",
       "    </tr>\n",
       "  </tbody>\n",
       "</table>\n",
       "</div>"
      ],
      "text/plain": [
       "   Model  Identifier  Efficiency  Inaccuracy  Attendance  Deviation\n",
       "0      9           0      -0.100   35.953280       0.364   0.309839\n",
       "1      9           1      -0.432   38.471663       0.638   0.345189"
      ]
     },
     "execution_count": 3,
     "metadata": {},
     "output_type": "execute_result"
    }
   ],
   "source": [
    "data = DataUtils.merge_models(df)\n",
    "data.head(2)"
   ]
  },
  {
   "cell_type": "code",
   "execution_count": 4,
   "id": "50b72e7c",
   "metadata": {},
   "outputs": [
    {
     "data": {
      "image/png": "[encoded data removed]",
      "text/plain": [
       "<Figure size 1600x400 with 4 Axes>"
      ]
     },
     "metadata": {},
     "output_type": "display_data"
    }
   ],
   "source": [
    "fig, ax = plt.subplots(\n",
    "    1,4, \n",
    "    figsize=(16, 4), \n",
    "    tight_layout=True\n",
    ")\n",
    "\n",
    "variables = ['Attendance', 'Efficiency', 'Inaccuracy', 'Deviation']\n",
    "\n",
    "for i, v in enumerate(variables):\n",
    "    sns.lineplot(\n",
    "        x='Model', y=v,\n",
    "        data=data,\n",
    "        ax=ax[i],\n",
    "        err_style=\"bars\",ci=95\n",
    "    )\n",
    "    ax[i].set_ylabel(v)\n",
    "    ax[i].set_xlabel('# of predictors (k)')\n",
    "    ax[i].set_title(v + ' (d=12)')\n",
    "    ax[i].grid()"
   ]
  },
  {
   "cell_type": "markdown",
   "id": "ce12db87",
   "metadata": {},
   "source": [
    "---"
   ]
  }
 ],
 "metadata": {
  "kernelspec": {
   "display_name": "Python 3",
   "language": "python",
   "name": "python3"
  },
  "language_info": {
   "codemirror_mode": {
    "name": "ipython",
    "version": 3
   },
   "file_extension": ".py",
   "mimetype": "text/x-python",
   "name": "python",
   "nbconvert_exporter": "python",
   "pygments_lexer": "ipython3",
   "version": "3.9.6"
  }
 },
 "nbformat": 4,
 "nbformat_minor": 5
}
