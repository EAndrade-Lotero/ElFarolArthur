{
 "cells": [
  {
   "cell_type": "markdown",
   "id": "2e628672",
   "metadata": {},
   "source": [
    "# Sweep $d$ and $k$"
   ]
  },
  {
   "cell_type": "code",
   "execution_count": 1,
   "id": "a85d4f93",
   "metadata": {},
   "outputs": [],
   "source": [
    "import diptest\n",
    "import numpy as np\n",
    "import pandas as pd\n",
    "import seaborn as sns\n",
    "import matplotlib.pyplot as plt\n",
    "\n",
    "\n",
    "from tqdm.auto import tqdm\n",
    "from itertools import combinations, product\n",
    "\n",
    "import warnings\n",
    "warnings.filterwarnings('ignore')\n",
    "\n",
    "import sys\n",
    "sys.path.append('../el_farol')\n",
    "\n",
    "from sim_utils import InteractiveBar\n",
    "from data_utils import Commonality\n",
    "from config import PATHS"
   ]
  },
  {
   "cell_type": "code",
   "execution_count": null,
   "id": "89b0cb05",
   "metadata": {},
   "outputs": [
    {
     "data": {
      "application/vnd.jupyter.widget-view+json": {
       "model_id": "c9709f4e6d9a45b1a9d79c955419a971",
       "version_major": 2,
       "version_minor": 0
      },
      "text/plain": [
       "Running memory sweeps:   0%|          | 0/2 [00:00<?, ?it/s]"
      ]
     },
     "metadata": {},
     "output_type": "display_data"
    },
    {
     "data": {
      "application/vnd.jupyter.widget-view+json": {
       "model_id": "1c4228989af94ddab5cf08227c46fe5d",
       "version_major": 2,
       "version_minor": 0
      },
      "text/plain": [
       "Running predictor sweeps:   0%|          | 0/2 [00:00<?, ?it/s]"
      ]
     },
     "metadata": {},
     "output_type": "display_data"
    },
    {
     "data": {
      "application/vnd.jupyter.widget-view+json": {
       "model_id": "d1184cd435614d849f0edfd1f7e89a94",
       "version_major": 2,
       "version_minor": 0
      },
      "text/plain": [
       "Running agent sweeps:   0%|          | 0/1 [00:00<?, ?it/s]"
      ]
     },
     "metadata": {},
     "output_type": "display_data"
    },
    {
     "data": {
      "application/vnd.jupyter.widget-view+json": {
       "model_id": "a6106c7d99f34417b095ac0799dea6c5",
       "version_major": 2,
       "version_minor": 0
      },
      "text/plain": [
       "Running round sweeps:   0%|          | 0/1 [00:00<?, ?it/s]"
      ]
     },
     "metadata": {},
     "output_type": "display_data"
    },
    {
     "data": {
      "application/vnd.jupyter.widget-view+json": {
       "model_id": "b391ea07a6564c15b9b56e3e1905001c",
       "version_major": 2,
       "version_minor": 0
      },
      "text/plain": [
       "Running experiments:   0%|          | 0/1 [00:00<?, ?it/s]"
      ]
     },
     "metadata": {},
     "output_type": "display_data"
    },
    {
     "data": {
      "application/vnd.jupyter.widget-view+json": {
       "model_id": "9c3731a5692d407aab1bbda1e6835fce",
       "version_major": 2,
       "version_minor": 0
      },
      "text/plain": [
       "Running agent sweeps:   0%|          | 0/1 [00:00<?, ?it/s]"
      ]
     },
     "metadata": {},
     "output_type": "display_data"
    },
    {
     "data": {
      "application/vnd.jupyter.widget-view+json": {
       "model_id": "2ecaa3910501451fab831786b897afb6",
       "version_major": 2,
       "version_minor": 0
      },
      "text/plain": [
       "Running round sweeps:   0%|          | 0/1 [00:00<?, ?it/s]"
      ]
     },
     "metadata": {},
     "output_type": "display_data"
    },
    {
     "data": {
      "application/vnd.jupyter.widget-view+json": {
       "model_id": "c508cca5c4dd4e4a955dbb4e6bf2730b",
       "version_major": 2,
       "version_minor": 0
      },
      "text/plain": [
       "Running experiments:   0%|          | 0/1 [00:00<?, ?it/s]"
      ]
     },
     "metadata": {},
     "output_type": "display_data"
    },
    {
     "data": {
      "application/vnd.jupyter.widget-view+json": {
       "model_id": "af87142d135c41ada94c0d0e620a7d34",
       "version_major": 2,
       "version_minor": 0
      },
      "text/plain": [
       "Running predictor sweeps:   0%|          | 0/2 [00:00<?, ?it/s]"
      ]
     },
     "metadata": {},
     "output_type": "display_data"
    },
    {
     "data": {
      "application/vnd.jupyter.widget-view+json": {
       "model_id": "2af7e178b21a46c68299b7041460a00a",
       "version_major": 2,
       "version_minor": 0
      },
      "text/plain": [
       "Running agent sweeps:   0%|          | 0/1 [00:00<?, ?it/s]"
      ]
     },
     "metadata": {},
     "output_type": "display_data"
    },
    {
     "data": {
      "application/vnd.jupyter.widget-view+json": {
       "model_id": "78d85d75d6a04ee8b3139fded381f1e8",
       "version_major": 2,
       "version_minor": 0
      },
      "text/plain": [
       "Running round sweeps:   0%|          | 0/1 [00:00<?, ?it/s]"
      ]
     },
     "metadata": {},
     "output_type": "display_data"
    },
    {
     "data": {
      "application/vnd.jupyter.widget-view+json": {
       "model_id": "89771de66d4d4c4cac7ec5fece498cc6",
       "version_major": 2,
       "version_minor": 0
      },
      "text/plain": [
       "Running experiments:   0%|          | 0/1 [00:00<?, ?it/s]"
      ]
     },
     "metadata": {},
     "output_type": "display_data"
    },
    {
     "data": {
      "application/vnd.jupyter.widget-view+json": {
       "model_id": "e5471009476347d1a120cea38642adef",
       "version_major": 2,
       "version_minor": 0
      },
      "text/plain": [
       "Running agent sweeps:   0%|          | 0/1 [00:00<?, ?it/s]"
      ]
     },
     "metadata": {},
     "output_type": "display_data"
    },
    {
     "data": {
      "application/vnd.jupyter.widget-view+json": {
       "model_id": "8e1eada0fab04aacae7df0a424e88154",
       "version_major": 2,
       "version_minor": 0
      },
      "text/plain": [
       "Running round sweeps:   0%|          | 0/1 [00:00<?, ?it/s]"
      ]
     },
     "metadata": {},
     "output_type": "display_data"
    },
    {
     "data": {
      "application/vnd.jupyter.widget-view+json": {
       "model_id": "733696414b9849efa8bc74e78ed9afd0",
       "version_major": 2,
       "version_minor": 0
      },
      "text/plain": [
       "Running experiments:   0%|          | 0/1 [00:00<?, ?it/s]"
      ]
     },
     "metadata": {},
     "output_type": "display_data"
    }
   ],
   "source": [
    "# ks = [1, 3]\n",
    "# ds = [2, 4]\n",
    "# ks = [9, 12]\n",
    "# ds = [12, 24]\n",
    "ks = [1, 3, 6, 9, 12]\n",
    "ds = [2, 4, 6, 12, 24]\n",
    "df_list = []\n",
    "\n",
    "num_rounds = 100\n",
    "num_episodes = 1\n",
    "\n",
    "df = InteractiveBar.run_sweep(\n",
    "    memories=ds,\n",
    "    predictors=ks,\n",
    "    num_experiments=num_episodes,\n",
    "    num_agents=[100],\n",
    "    threshold=0.6,\n",
    "    num_rounds=[num_rounds]\n",
    ").reset_index()"
   ]
  },
  {
   "cell_type": "code",
   "execution_count": 8,
   "id": "33d0a076",
   "metadata": {},
   "outputs": [
    {
     "data": {
      "text/html": [
       "<div>\n",
       "<style scoped>\n",
       "    .dataframe tbody tr th:only-of-type {\n",
       "        vertical-align: middle;\n",
       "    }\n",
       "\n",
       "    .dataframe tbody tr th {\n",
       "        vertical-align: top;\n",
       "    }\n",
       "\n",
       "    .dataframe thead th {\n",
       "        text-align: right;\n",
       "    }\n",
       "</style>\n",
       "<table border=\"1\" class=\"dataframe\">\n",
       "  <thead>\n",
       "    <tr style=\"text-align: right;\">\n",
       "      <th></th>\n",
       "      <th>index</th>\n",
       "      <th>Memory</th>\n",
       "      <th>Num_predictors</th>\n",
       "      <th>Identifier</th>\n",
       "      <th>Round</th>\n",
       "      <th>Agent</th>\n",
       "      <th>Decision</th>\n",
       "      <th>Score</th>\n",
       "      <th>Policy</th>\n",
       "      <th>Prediction</th>\n",
       "      <th>Inaccuracy</th>\n",
       "    </tr>\n",
       "  </thead>\n",
       "  <tbody>\n",
       "    <tr>\n",
       "      <th>0</th>\n",
       "      <td>0</td>\n",
       "      <td>12</td>\n",
       "      <td>9</td>\n",
       "      <td>0</td>\n",
       "      <td>0</td>\n",
       "      <td>0</td>\n",
       "      <td>1</td>\n",
       "      <td>1</td>\n",
       "      <td>7-cyclic</td>\n",
       "      <td>53</td>\n",
       "      <td>NaN</td>\n",
       "    </tr>\n",
       "    <tr>\n",
       "      <th>1</th>\n",
       "      <td>1</td>\n",
       "      <td>12</td>\n",
       "      <td>9</td>\n",
       "      <td>0</td>\n",
       "      <td>1</td>\n",
       "      <td>0</td>\n",
       "      <td>1</td>\n",
       "      <td>-1</td>\n",
       "      <td>2-cyclic</td>\n",
       "      <td>100</td>\n",
       "      <td>47.0</td>\n",
       "    </tr>\n",
       "  </tbody>\n",
       "</table>\n",
       "</div>"
      ],
      "text/plain": [
       "   index  Memory  Num_predictors  Identifier  Round  Agent  Decision  Score  \\\n",
       "0      0      12               9           0      0      0         1      1   \n",
       "1      1      12               9           0      1      0         1     -1   \n",
       "\n",
       "     Policy  Prediction  Inaccuracy  \n",
       "0  7-cyclic          53         NaN  \n",
       "1  2-cyclic         100        47.0  "
      ]
     },
     "execution_count": 8,
     "metadata": {},
     "output_type": "execute_result"
    }
   ],
   "source": [
    "df.head(2)"
   ]
  },
  {
   "cell_type": "markdown",
   "id": "ecbd7df0",
   "metadata": {},
   "source": [
    "### Plot sweep Inaccuracy"
   ]
  },
  {
   "cell_type": "code",
   "execution_count": null,
   "id": "8ee7715c",
   "metadata": {},
   "outputs": [],
   "source": [
    "# This cell shows the inaccuracy sweep\n",
    "\n",
    "fig, axes = plt.subplots(\n",
    "    len(ds), len(ks), \n",
    "    figsize=(3*len(ks),3*len(ds)), \n",
    "    tight_layout=True,\n",
    "    sharex=True, sharey=True\n",
    ")\n",
    "\n",
    "for k, d in product(ks, ds):\n",
    "    df_to_plot = df[(df['Memory'] == d) & (df['Num_predictors'] == k)]\n",
    "    idx_k = ks.index(k)\n",
    "    idx_d = ds.index(d)\n",
    "    sns.lineplot(x='Round', y='Inaccuracy', data=df_to_plot, ax=axes[idx_d, idx_k])\n",
    "    axes[idx_d, idx_k].set_title(f'k={k} -- d={d}')\n",
    "    axes[idx_d, idx_k].set_ylabel('Inaccuracy')"
   ]
  },
  {
   "cell_type": "code",
   "execution_count": null,
   "id": "1ed67223",
   "metadata": {},
   "outputs": [],
   "source": [
    "file_name = PATHS['folder_figures_for_paper'] / 'sweep_inaccuracy.png'\n",
    "fig.savefig(file_name, dpi=300, bbox_inches='tight')"
   ]
  },
  {
   "cell_type": "markdown",
   "id": "9799b764",
   "metadata": {},
   "source": [
    "### Plot sweep $\\Delta m$"
   ]
  },
  {
   "cell_type": "code",
   "execution_count": null,
   "id": "64232bc4",
   "metadata": {},
   "outputs": [],
   "source": [
    "# This cell shows the sweep with Delta m\n",
    "\n",
    "fig, axes = plt.subplots(\n",
    "    len(ds), len(ks), \n",
    "    figsize=(3*len(ks),3*len(ds)), \n",
    "    tight_layout=True,\n",
    "    sharex=True, sharey=True\n",
    ")\n",
    "\n",
    "for k, d in product(ks, ds):\n",
    "    df_to_plot = df[(df['Memory'] == d) & (df['Num_predictors'] == k)]\n",
    "    df_to_plot['Prediction_lag'] = df_to_plot.groupby(['Identifier','Agent'])['Prediction'].transform('shift',1)\n",
    "    df_to_plot['Attendance'] = df_to_plot.groupby(['Identifier','Round'])['Decision'].transform('sum')\n",
    "\n",
    "    # Delta m\n",
    "    df1A = df_to_plot.groupby('Round')['Prediction_lag'].value_counts().reset_index(name='Count')\n",
    "    # df2AA = df1A.groupby('Round').apply(lambda x: delta_m(list(x['Prediction_lag']), list(x['Count']))).reset_index()\n",
    "    df2AA = df1A.groupby('Round').apply(lambda x: IQR(x['Prediction_lag'].values)).reset_index()\n",
    "    df2AA.columns = ['Round','Dif_modes']\n",
    "\n",
    "    # Plot\n",
    "    idx_k = ks.index(k)\n",
    "    idx_d = ds.index(d)\n",
    "    sns.lineplot(x='Round', y='Dif_modes', data=df2AA, ax=axes[idx_d, idx_k])\n",
    "    axes[idx_d, idx_k].set_title(f'k={k} -- d={d}')\n",
    "    # axes[idx_d, idx_k].set_ylabel('$\\Delta$m')\n",
    "    axes[idx_d, idx_k].set_ylabel('Inter quartile Range')"
   ]
  },
  {
   "cell_type": "code",
   "execution_count": null,
   "id": "615856fe",
   "metadata": {},
   "outputs": [],
   "source": [
    "file_name = PATHS['folder_figures_for_paper'] / 'sweep_delta_m.png'\n",
    "fig.savefig(file_name, dpi=300, bbox_inches='tight')"
   ]
  },
  {
   "cell_type": "markdown",
   "id": "448944bf",
   "metadata": {},
   "source": [
    "### Test de bimodalidad"
   ]
  },
  {
   "cell_type": "code",
   "execution_count": null,
   "id": "26d71114",
   "metadata": {},
   "outputs": [],
   "source": [
    "N = 1000\n",
    "hN = N // 2\n",
    "x = np.empty(N, dtype=np.float64)\n",
    "dist = 1.25\n",
    "x[:hN] = np.random.normal(dist, 1.0, hN)\n",
    "x[hN:] = np.random.normal(-dist, 1.0, hN)\n",
    "\n",
    "# both the dip statistic and p-value\n",
    "dip, pval = diptest.diptest(x)\n",
    "\n",
    "ax = sns.histplot(x, kde=True)\n",
    "ax.set_title(f'Dip Test Example --- distance = {2*dist} (p={pval:.3f})')"
   ]
  },
  {
   "cell_type": "code",
   "execution_count": null,
   "id": "833044ee",
   "metadata": {},
   "outputs": [],
   "source": [
    "N = 1000\n",
    "hN = N // 2\n",
    "x = np.empty(N, dtype=np.float64)\n",
    "dist = 1.5\n",
    "x[:hN] = np.random.normal(dist, 1.0, hN)\n",
    "x[hN:] = np.random.normal(-dist, 1.0, hN)\n",
    "\n",
    "# both the dip statistic and p-value\n",
    "dip, pval = diptest.diptest(x)\n",
    "\n",
    "ax = sns.histplot(x, kde=True)\n",
    "ax.set_title(f'Dip Test Example --- distance = {2*dist} (p={pval:.3f})')"
   ]
  },
  {
   "cell_type": "code",
   "execution_count": null,
   "id": "b3540b49",
   "metadata": {},
   "outputs": [],
   "source": [
    "# generate some bimodal random draws\n",
    "N = 1000\n",
    "hN = N // 2\n",
    "x = np.empty(N, dtype=np.float64)\n",
    "\n",
    "df_dist = pd.DataFrame(columns=['Distance', 'Dip Statistic', 'p-value'])\n",
    "distancias = [2, 1.5, 1.45, 1.4, 1.35, 1.3, 1.25, 1.1, 1, 0.5, 0.25]\n",
    "# distancias = [1.5]\n",
    "for dist in distancias:\n",
    "    for i in range(100):\n",
    "        x[:hN] = np.random.normal(dist, 1.0, hN)\n",
    "        x[hN:] = np.random.normal(-dist, 1.0, hN)\n",
    "\n",
    "        # both the dip statistic and p-value\n",
    "        dip, pval = diptest.diptest(x)\n",
    "        # Append the results to the DataFrame\n",
    "        df_dist = df_dist.append({\n",
    "            'Distance': 2*dist,\n",
    "            'Dip Statistic': dip,\n",
    "            'p-value': pval\n",
    "        }, ignore_index=True)\n",
    "\n",
    "ax = sns.lineplot(x='Distance', y='p-value', data=df_dist)\n",
    "# draw a horizontal line at p=0.05\n",
    "ax.axhline(y=0.05, color='r', linestyle='--', label='p=0.05')"
   ]
  },
  {
   "cell_type": "code",
   "execution_count": null,
   "id": "0604d2c4",
   "metadata": {},
   "outputs": [],
   "source": []
  },
  {
   "cell_type": "code",
   "execution_count": null,
   "id": "9e912ff4",
   "metadata": {},
   "outputs": [],
   "source": [
    "df_to_plot.head(2)"
   ]
  },
  {
   "cell_type": "code",
   "execution_count": null,
   "id": "38597f6a",
   "metadata": {},
   "outputs": [],
   "source": [
    "dfB = df_to_plot.groupby('Identifier')['Decision'].mean().reset_index(name='Decision_mean')\n",
    "dfB['Commonality'] = dfB.apply(lambda x: max(x['Decision_mean'], 1 - x['Decision_mean']), axis=1)\n",
    "dfB.head(2)"
   ]
  },
  {
   "cell_type": "code",
   "execution_count": null,
   "id": "70b1b603",
   "metadata": {},
   "outputs": [],
   "source": [
    "d = ds[0]\n",
    "k = ks[0]\n",
    "df_to_plot = df[(df['Memory'] == d) & (df['Num_predictors'] == k)]\n",
    "n = df_to_plot['Identifier'].unique().tolist()[0]\n",
    "dfA = df_to_plot[df_to_plot['Identifier'] == n].copy()\n",
    "# dfA = dfA[(dfA['Round'] > 20) & (dfA['Round'] < 25)].reset_index(drop=True)"
   ]
  },
  {
   "cell_type": "markdown",
   "id": "fdd3310f",
   "metadata": {},
   "source": [
    "$$\n",
    "\\frac{\\texttt{most\\_frequent}}{N}\n",
    "$$"
   ]
  },
  {
   "cell_type": "code",
   "execution_count": null,
   "id": "b601bd30",
   "metadata": {},
   "outputs": [],
   "source": [
    "dfA"
   ]
  },
  {
   "cell_type": "code",
   "execution_count": null,
   "id": "1cbe16d3",
   "metadata": {},
   "outputs": [],
   "source": []
  },
  {
   "cell_type": "code",
   "execution_count": null,
   "id": "e12215ad",
   "metadata": {},
   "outputs": [],
   "source": [
    "dfA['Decision'].value_counts().max()"
   ]
  },
  {
   "cell_type": "code",
   "execution_count": null,
   "id": "1f2b9cca",
   "metadata": {},
   "outputs": [],
   "source": [
    "fig, ax = plt.subplots(4, 1, figsize=(3, 12), tight_layout=True, sharex=True, sharey=True)\n",
    "\n",
    "i = 0\n",
    "for _, grp in dfA.groupby('Round'):\n",
    "    sns.histplot(grp['Prediction'], kde=True, ax=ax[i], stat='density')    \n",
    "    # dip, pval = diptest.diptest(grp['Prediction'])\n",
    "    # delta = delta_m(grp['Prediction'], grp['Prediction'].value_counts().values)\n",
    "    ax[i].set_title(f'p-value = {pval:.2f}')\n",
    "    i += 1"
   ]
  },
  {
   "cell_type": "code",
   "execution_count": 21,
   "id": "14b24b79",
   "metadata": {},
   "outputs": [
    {
     "data": {
      "image/png": "[encoded data removed]",
      "text/plain": [
       "<Figure size 600x600 with 4 Axes>"
      ]
     },
     "metadata": {},
     "output_type": "display_data"
    }
   ],
   "source": [
    "# This cell shows the sweep with the Sarle coefficient\n",
    "\n",
    "fig, axes = plt.subplots(\n",
    "    len(ds), len(ks), \n",
    "    figsize=(3*len(ks),3*len(ds)), \n",
    "    tight_layout=True,\n",
    "    sharex=True, sharey=True\n",
    ")\n",
    "\n",
    "for k, d in product(ks, ds):\n",
    "    df_to_plot = df[(df['Memory'] == d) & (df['Num_predictors'] == k)]\n",
    "    df_to_plot['Prediction_lag'] = df_to_plot.groupby(['Identifier','Agent'])['Prediction'].transform('shift',1)\n",
    "    df_to_plot['Attendance'] = df_to_plot.groupby(['Identifier','Round'])['Decision'].transform('sum')\n",
    "\n",
    "    # # Sarle's bimodality coefficient:\n",
    "    # df2A = df_to_plot.groupby('Round').agg(\n",
    "    #     kurtosis=pd.NamedAgg(column=\"Prediction_lag\", aggfunc=lambda x: x.kurt()),\n",
    "    #     skewness=pd.NamedAgg(column=\"Prediction_lag\", aggfunc=lambda x: x.skew()),\n",
    "    #     count=pd.NamedAgg(column=\"Prediction_lag\", aggfunc=lambda x: x.count()),\n",
    "    # )\n",
    "    # df2A['sarle'] = (df2A['skewness'] ** 2 + 1) / (df2A['kurtosis'] + (3 * (df2A['count'] - 1) ** 2) / ((df2A['count'] - 2) * (df2A['count'] - 3)))\n",
    "\n",
    "    # #  Hartigan’s dip statistic\n",
    "    # df2A = df_to_plot.groupby('Round').agg(\n",
    "    #     hds=pd.NamedAgg(column=\"Prediction\", aggfunc=lambda x: diptest.diptest(x)[0]),\n",
    "    #     hds_pvalue=pd.NamedAgg(column=\"Prediction\", aggfunc=lambda x: diptest.diptest(x)[1])\n",
    "    # )\n",
    "\n",
    "    df2A = df_to_plot.groupby('Round').agg(\n",
    "        Commonality=pd.NamedAgg(column=\"Decision\", aggfunc=lambda x: Commonality(x.values))\n",
    "        # Commonality=pd.NamedAgg(column=\"Decision\", aggfunc=lambda x: np.mean(x.values))\n",
    "    )\n",
    "\n",
    "    # Plot\n",
    "    idx_k = ks.index(k)\n",
    "    idx_d = ds.index(d)\n",
    "    sns.histplot(df2A['Commonality'], kde=True, ax=axes[idx_d, idx_k], stat='density', color='blue')\n",
    "    # sns.lineplot(x='Round', y='hds', data=df2A, ax=axes[idx_d, idx_k], color='blue', label='Dip Statistic')\n",
    "    # sns.lineplot(x='Round', y='hds_pvalue', data=df2A, ax=axes[idx_d, idx_k], color='blue', label='Dip Statistic')\n",
    "    # sns.lineplot(x='Round', y='sarle', data=df2A, ax=axes[idx_d, idx_k], color='blue', label='Dip Statistic')\n",
    "    # sns.lineplot(x='Round', y='Commonality', data=df2A, ax=axes[idx_d, idx_k], color='red', label='p-value')\n",
    "    axes[idx_d, idx_k].set_title(f'k={k} -- d={d}')\n",
    "    # Dashed red line for 5/9 of Sarle's coefficient\n",
    "    # axes[idx_d, idx_k].axhline(y=5/9, color='red', linestyle='--', label='5/9 Threshold')\n",
    "    # if idx_d < len(ds) - 1:\n",
    "    #     axes[idx_d, idx_k].legend_.remove()\n",
    "    # else:\n",
    "    #     if idx_k == len(ks) // 2:\n",
    "    #         axes[idx_d, idx_k].legend(loc='lower center', bbox_to_anchor=(0.5, -0.2), ncol=2)\n",
    "    #     else:\n",
    "    #         axes[idx_d, idx_k].legend_.remove()\n"
   ]
  },
  {
   "cell_type": "code",
   "execution_count": null,
   "id": "33c9c1f1",
   "metadata": {},
   "outputs": [],
   "source": [
    "file_name = PATHS['folder_figures_for_paper'] / 'sweep_sarle.png'\n",
    "fig.savefig(file_name, dpi=300, bbox_inches='tight')"
   ]
  },
  {
   "cell_type": "markdown",
   "id": "51321d8a",
   "metadata": {},
   "source": [
    "---"
   ]
  }
 ],
 "metadata": {
  "kernelspec": {
   "display_name": "Python 3",
   "language": "python",
   "name": "python3"
  },
  "language_info": {
   "codemirror_mode": {
    "name": "ipython",
    "version": 3
   },
   "file_extension": ".py",
   "mimetype": "text/x-python",
   "name": "python",
   "nbconvert_exporter": "python",
   "pygments_lexer": "ipython3",
   "version": "3.9.6"
  }
 },
 "nbformat": 4,
 "nbformat_minor": 5
}
