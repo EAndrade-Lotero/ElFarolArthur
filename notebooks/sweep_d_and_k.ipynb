{
 "cells": [
  {
   "cell_type": "markdown",
   "id": "2e628672",
   "metadata": {},
   "source": [
    "# Sweep $d$ and $k$"
   ]
  },
  {
   "cell_type": "code",
   "execution_count": 1,
   "id": "a85d4f93",
   "metadata": {},
   "outputs": [],
   "source": [
    "import diptest\n",
    "import numpy as np\n",
    "import pandas as pd\n",
    "import seaborn as sns\n",
    "import matplotlib.pyplot as plt\n",
    "\n",
    "from itertools import combinations, product\n",
    "\n",
    "import warnings\n",
    "warnings.filterwarnings('ignore')\n",
    "\n",
    "import sys\n",
    "sys.path.append('../el_farol')\n",
    "\n",
    "from main import main\n",
    "from data_utils import Commonality\n",
    "from config import PATHS"
   ]
  },
  {
   "cell_type": "code",
   "execution_count": 6,
   "id": "89b0cb05",
   "metadata": {},
   "outputs": [
    {
     "data": {
      "application/vnd.jupyter.widget-view+json": {
       "model_id": "0c2886718a6946f5a02e7b7398410355",
       "version_major": 2,
       "version_minor": 0
      },
      "text/plain": [
       "Running memory sweeps:   0%|          | 0/6 [00:00<?, ?it/s]"
      ]
     },
     "metadata": {},
     "output_type": "display_data"
    },
    {
     "data": {
      "application/vnd.jupyter.widget-view+json": {
       "model_id": "3be79aff793343719075da0e3e0d58f7",
       "version_major": 2,
       "version_minor": 0
      },
      "text/plain": [
       "Running predictor sweeps:   0%|          | 0/6 [00:00<?, ?it/s]"
      ]
     },
     "metadata": {},
     "output_type": "display_data"
    },
    {
     "data": {
      "application/vnd.jupyter.widget-view+json": {
       "model_id": "392476bea491409a8b9fb0fff90ab6f0",
       "version_major": 2,
       "version_minor": 0
      },
      "text/plain": [
       "Running agent sweeps:   0%|          | 0/1 [00:00<?, ?it/s]"
      ]
     },
     "metadata": {},
     "output_type": "display_data"
    },
    {
     "data": {
      "application/vnd.jupyter.widget-view+json": {
       "model_id": "e2e10c7ed8bb43f98a378ed1c3361b58",
       "version_major": 2,
       "version_minor": 0
      },
      "text/plain": [
       "Running round sweeps:   0%|          | 0/1 [00:00<?, ?it/s]"
      ]
     },
     "metadata": {},
     "output_type": "display_data"
    },
    {
     "data": {
      "application/vnd.jupyter.widget-view+json": {
       "model_id": "1d1f7faef266434daa1f57827d64f6ef",
       "version_major": 2,
       "version_minor": 0
      },
      "text/plain": [
       "Running experiments:   0%|          | 0/100 [00:00<?, ?it/s]"
      ]
     },
     "metadata": {},
     "output_type": "display_data"
    },
    {
     "data": {
      "application/vnd.jupyter.widget-view+json": {
       "model_id": "02c2975692a148fbbfb7a0309f57f762",
       "version_major": 2,
       "version_minor": 0
      },
      "text/plain": [
       "Running agent sweeps:   0%|          | 0/1 [00:00<?, ?it/s]"
      ]
     },
     "metadata": {},
     "output_type": "display_data"
    },
    {
     "data": {
      "application/vnd.jupyter.widget-view+json": {
       "model_id": "a95ac2c28a4448eaa67388da977793dd",
       "version_major": 2,
       "version_minor": 0
      },
      "text/plain": [
       "Running round sweeps:   0%|          | 0/1 [00:00<?, ?it/s]"
      ]
     },
     "metadata": {},
     "output_type": "display_data"
    },
    {
     "data": {
      "application/vnd.jupyter.widget-view+json": {
       "model_id": "afb295de9f014c14a62a0a5347bf03ca",
       "version_major": 2,
       "version_minor": 0
      },
      "text/plain": [
       "Running experiments:   0%|          | 0/100 [00:00<?, ?it/s]"
      ]
     },
     "metadata": {},
     "output_type": "display_data"
    },
    {
     "data": {
      "application/vnd.jupyter.widget-view+json": {
       "model_id": "4fe293884cf74902a0df6f35e9798abb",
       "version_major": 2,
       "version_minor": 0
      },
      "text/plain": [
       "Running agent sweeps:   0%|          | 0/1 [00:00<?, ?it/s]"
      ]
     },
     "metadata": {},
     "output_type": "display_data"
    },
    {
     "data": {
      "application/vnd.jupyter.widget-view+json": {
       "model_id": "3657ac07d8d442008b2a64fcea7899df",
       "version_major": 2,
       "version_minor": 0
      },
      "text/plain": [
       "Running round sweeps:   0%|          | 0/1 [00:00<?, ?it/s]"
      ]
     },
     "metadata": {},
     "output_type": "display_data"
    },
    {
     "data": {
      "application/vnd.jupyter.widget-view+json": {
       "model_id": "fa6df7b2fc60458796a996c731604038",
       "version_major": 2,
       "version_minor": 0
      },
      "text/plain": [
       "Running experiments:   0%|          | 0/100 [00:00<?, ?it/s]"
      ]
     },
     "metadata": {},
     "output_type": "display_data"
    },
    {
     "data": {
      "application/vnd.jupyter.widget-view+json": {
       "model_id": "560062ff29fc44d091ec62da47c6462d",
       "version_major": 2,
       "version_minor": 0
      },
      "text/plain": [
       "Running agent sweeps:   0%|          | 0/1 [00:00<?, ?it/s]"
      ]
     },
     "metadata": {},
     "output_type": "display_data"
    },
    {
     "data": {
      "application/vnd.jupyter.widget-view+json": {
       "model_id": "2de2c2ede25b4788a2e060c4e43ca310",
       "version_major": 2,
       "version_minor": 0
      },
      "text/plain": [
       "Running round sweeps:   0%|          | 0/1 [00:00<?, ?it/s]"
      ]
     },
     "metadata": {},
     "output_type": "display_data"
    },
    {
     "data": {
      "application/vnd.jupyter.widget-view+json": {
       "model_id": "51702a98127c408d8de1cfe3963631cb",
       "version_major": 2,
       "version_minor": 0
      },
      "text/plain": [
       "Running experiments:   0%|          | 0/100 [00:00<?, ?it/s]"
      ]
     },
     "metadata": {},
     "output_type": "display_data"
    },
    {
     "data": {
      "application/vnd.jupyter.widget-view+json": {
       "model_id": "703734f02da944e7be0546bd39131096",
       "version_major": 2,
       "version_minor": 0
      },
      "text/plain": [
       "Running agent sweeps:   0%|          | 0/1 [00:00<?, ?it/s]"
      ]
     },
     "metadata": {},
     "output_type": "display_data"
    },
    {
     "data": {
      "application/vnd.jupyter.widget-view+json": {
       "model_id": "ee59d0b10381446cb6698f409d0036bc",
       "version_major": 2,
       "version_minor": 0
      },
      "text/plain": [
       "Running round sweeps:   0%|          | 0/1 [00:00<?, ?it/s]"
      ]
     },
     "metadata": {},
     "output_type": "display_data"
    },
    {
     "data": {
      "application/vnd.jupyter.widget-view+json": {
       "model_id": "4abc79eb83c941a793c7e64d3838ac74",
       "version_major": 2,
       "version_minor": 0
      },
      "text/plain": [
       "Running experiments:   0%|          | 0/100 [00:00<?, ?it/s]"
      ]
     },
     "metadata": {},
     "output_type": "display_data"
    },
    {
     "data": {
      "application/vnd.jupyter.widget-view+json": {
       "model_id": "48e271cd505f40aaae79e0424d2dda61",
       "version_major": 2,
       "version_minor": 0
      },
      "text/plain": [
       "Running agent sweeps:   0%|          | 0/1 [00:00<?, ?it/s]"
      ]
     },
     "metadata": {},
     "output_type": "display_data"
    },
    {
     "data": {
      "application/vnd.jupyter.widget-view+json": {
       "model_id": "b3663fc2dbce470d82038ca8c86de2fe",
       "version_major": 2,
       "version_minor": 0
      },
      "text/plain": [
       "Running round sweeps:   0%|          | 0/1 [00:00<?, ?it/s]"
      ]
     },
     "metadata": {},
     "output_type": "display_data"
    },
    {
     "data": {
      "application/vnd.jupyter.widget-view+json": {
       "model_id": "34c7cbc1a78a4715be0785ce2761a948",
       "version_major": 2,
       "version_minor": 0
      },
      "text/plain": [
       "Running experiments:   0%|          | 0/100 [00:00<?, ?it/s]"
      ]
     },
     "metadata": {},
     "output_type": "display_data"
    },
    {
     "data": {
      "application/vnd.jupyter.widget-view+json": {
       "model_id": "390626821d624658848ed977e02f0be2",
       "version_major": 2,
       "version_minor": 0
      },
      "text/plain": [
       "Running predictor sweeps:   0%|          | 0/6 [00:00<?, ?it/s]"
      ]
     },
     "metadata": {},
     "output_type": "display_data"
    },
    {
     "data": {
      "application/vnd.jupyter.widget-view+json": {
       "model_id": "cb41a8de1ec446e699c17edff18baa37",
       "version_major": 2,
       "version_minor": 0
      },
      "text/plain": [
       "Running agent sweeps:   0%|          | 0/1 [00:00<?, ?it/s]"
      ]
     },
     "metadata": {},
     "output_type": "display_data"
    },
    {
     "data": {
      "application/vnd.jupyter.widget-view+json": {
       "model_id": "26788da179fc4c278cb0f88c0e531e41",
       "version_major": 2,
       "version_minor": 0
      },
      "text/plain": [
       "Running round sweeps:   0%|          | 0/1 [00:00<?, ?it/s]"
      ]
     },
     "metadata": {},
     "output_type": "display_data"
    },
    {
     "data": {
      "application/vnd.jupyter.widget-view+json": {
       "model_id": "30c55f49987d47ccbafb5e6dee36a4de",
       "version_major": 2,
       "version_minor": 0
      },
      "text/plain": [
       "Running experiments:   0%|          | 0/100 [00:00<?, ?it/s]"
      ]
     },
     "metadata": {},
     "output_type": "display_data"
    },
    {
     "data": {
      "application/vnd.jupyter.widget-view+json": {
       "model_id": "52a435e09e944cfd91136a88110fa0ca",
       "version_major": 2,
       "version_minor": 0
      },
      "text/plain": [
       "Running agent sweeps:   0%|          | 0/1 [00:00<?, ?it/s]"
      ]
     },
     "metadata": {},
     "output_type": "display_data"
    },
    {
     "data": {
      "application/vnd.jupyter.widget-view+json": {
       "model_id": "c52f7e660e0944c29f5b176fb36851d5",
       "version_major": 2,
       "version_minor": 0
      },
      "text/plain": [
       "Running round sweeps:   0%|          | 0/1 [00:00<?, ?it/s]"
      ]
     },
     "metadata": {},
     "output_type": "display_data"
    },
    {
     "data": {
      "application/vnd.jupyter.widget-view+json": {
       "model_id": "1ee57947087b40ebaaec688b79e2b695",
       "version_major": 2,
       "version_minor": 0
      },
      "text/plain": [
       "Running experiments:   0%|          | 0/100 [00:00<?, ?it/s]"
      ]
     },
     "metadata": {},
     "output_type": "display_data"
    },
    {
     "data": {
      "application/vnd.jupyter.widget-view+json": {
       "model_id": "699647f08c294b7a829d7e8fbaac5971",
       "version_major": 2,
       "version_minor": 0
      },
      "text/plain": [
       "Running agent sweeps:   0%|          | 0/1 [00:00<?, ?it/s]"
      ]
     },
     "metadata": {},
     "output_type": "display_data"
    },
    {
     "data": {
      "application/vnd.jupyter.widget-view+json": {
       "model_id": "ae24f85bcef94986a04b63527b1b73a9",
       "version_major": 2,
       "version_minor": 0
      },
      "text/plain": [
       "Running round sweeps:   0%|          | 0/1 [00:00<?, ?it/s]"
      ]
     },
     "metadata": {},
     "output_type": "display_data"
    },
    {
     "data": {
      "application/vnd.jupyter.widget-view+json": {
       "model_id": "05f72d917ee545df85396be699a307a1",
       "version_major": 2,
       "version_minor": 0
      },
      "text/plain": [
       "Running experiments:   0%|          | 0/100 [00:00<?, ?it/s]"
      ]
     },
     "metadata": {},
     "output_type": "display_data"
    },
    {
     "data": {
      "application/vnd.jupyter.widget-view+json": {
       "model_id": "7a56ce8f855342c59d492619ef0c12cb",
       "version_major": 2,
       "version_minor": 0
      },
      "text/plain": [
       "Running agent sweeps:   0%|          | 0/1 [00:00<?, ?it/s]"
      ]
     },
     "metadata": {},
     "output_type": "display_data"
    },
    {
     "data": {
      "application/vnd.jupyter.widget-view+json": {
       "model_id": "fa0f323e7b704a0091719b5f336b09ae",
       "version_major": 2,
       "version_minor": 0
      },
      "text/plain": [
       "Running round sweeps:   0%|          | 0/1 [00:00<?, ?it/s]"
      ]
     },
     "metadata": {},
     "output_type": "display_data"
    },
    {
     "data": {
      "application/vnd.jupyter.widget-view+json": {
       "model_id": "38c18caa4bc541159d8722ac92800cd2",
       "version_major": 2,
       "version_minor": 0
      },
      "text/plain": [
       "Running experiments:   0%|          | 0/100 [00:00<?, ?it/s]"
      ]
     },
     "metadata": {},
     "output_type": "display_data"
    },
    {
     "data": {
      "application/vnd.jupyter.widget-view+json": {
       "model_id": "62dd9c5247654553aa8515b52d5ef776",
       "version_major": 2,
       "version_minor": 0
      },
      "text/plain": [
       "Running agent sweeps:   0%|          | 0/1 [00:00<?, ?it/s]"
      ]
     },
     "metadata": {},
     "output_type": "display_data"
    },
    {
     "data": {
      "application/vnd.jupyter.widget-view+json": {
       "model_id": "b227899e53ea4619b811226ad193ffb6",
       "version_major": 2,
       "version_minor": 0
      },
      "text/plain": [
       "Running round sweeps:   0%|          | 0/1 [00:00<?, ?it/s]"
      ]
     },
     "metadata": {},
     "output_type": "display_data"
    },
    {
     "data": {
      "application/vnd.jupyter.widget-view+json": {
       "model_id": "b26029cf3bc040dca520d4503aadf53f",
       "version_major": 2,
       "version_minor": 0
      },
      "text/plain": [
       "Running experiments:   0%|          | 0/100 [00:00<?, ?it/s]"
      ]
     },
     "metadata": {},
     "output_type": "display_data"
    },
    {
     "data": {
      "application/vnd.jupyter.widget-view+json": {
       "model_id": "73ba6e55786a45e0ad71107f714d4a8c",
       "version_major": 2,
       "version_minor": 0
      },
      "text/plain": [
       "Running agent sweeps:   0%|          | 0/1 [00:00<?, ?it/s]"
      ]
     },
     "metadata": {},
     "output_type": "display_data"
    },
    {
     "data": {
      "application/vnd.jupyter.widget-view+json": {
       "model_id": "9fd3eb36a57e403d99afe2719c97ab14",
       "version_major": 2,
       "version_minor": 0
      },
      "text/plain": [
       "Running round sweeps:   0%|          | 0/1 [00:00<?, ?it/s]"
      ]
     },
     "metadata": {},
     "output_type": "display_data"
    },
    {
     "data": {
      "application/vnd.jupyter.widget-view+json": {
       "model_id": "c69a0d059f1b4626b7290ab0ada123ea",
       "version_major": 2,
       "version_minor": 0
      },
      "text/plain": [
       "Running experiments:   0%|          | 0/100 [00:00<?, ?it/s]"
      ]
     },
     "metadata": {},
     "output_type": "display_data"
    },
    {
     "data": {
      "application/vnd.jupyter.widget-view+json": {
       "model_id": "f6b77e6462d7497bad3b6a252eed0de1",
       "version_major": 2,
       "version_minor": 0
      },
      "text/plain": [
       "Running predictor sweeps:   0%|          | 0/6 [00:00<?, ?it/s]"
      ]
     },
     "metadata": {},
     "output_type": "display_data"
    },
    {
     "data": {
      "application/vnd.jupyter.widget-view+json": {
       "model_id": "30329f2b018a4d5481cb4c26def0d8d8",
       "version_major": 2,
       "version_minor": 0
      },
      "text/plain": [
       "Running agent sweeps:   0%|          | 0/1 [00:00<?, ?it/s]"
      ]
     },
     "metadata": {},
     "output_type": "display_data"
    },
    {
     "data": {
      "application/vnd.jupyter.widget-view+json": {
       "model_id": "1c640dd5b4e648fe8ea3a051a895d44f",
       "version_major": 2,
       "version_minor": 0
      },
      "text/plain": [
       "Running round sweeps:   0%|          | 0/1 [00:00<?, ?it/s]"
      ]
     },
     "metadata": {},
     "output_type": "display_data"
    },
    {
     "data": {
      "application/vnd.jupyter.widget-view+json": {
       "model_id": "6f53735f83be4908a219b8c1c30191d0",
       "version_major": 2,
       "version_minor": 0
      },
      "text/plain": [
       "Running experiments:   0%|          | 0/100 [00:00<?, ?it/s]"
      ]
     },
     "metadata": {},
     "output_type": "display_data"
    },
    {
     "data": {
      "application/vnd.jupyter.widget-view+json": {
       "model_id": "65d38abd1da441d8b733a6e256e91b02",
       "version_major": 2,
       "version_minor": 0
      },
      "text/plain": [
       "Running agent sweeps:   0%|          | 0/1 [00:00<?, ?it/s]"
      ]
     },
     "metadata": {},
     "output_type": "display_data"
    },
    {
     "data": {
      "application/vnd.jupyter.widget-view+json": {
       "model_id": "f072525d63dc4c30ac522d29d4542e07",
       "version_major": 2,
       "version_minor": 0
      },
      "text/plain": [
       "Running round sweeps:   0%|          | 0/1 [00:00<?, ?it/s]"
      ]
     },
     "metadata": {},
     "output_type": "display_data"
    },
    {
     "data": {
      "application/vnd.jupyter.widget-view+json": {
       "model_id": "4ac1b4f4178f43b5ba925fa84ba83936",
       "version_major": 2,
       "version_minor": 0
      },
      "text/plain": [
       "Running experiments:   0%|          | 0/100 [00:00<?, ?it/s]"
      ]
     },
     "metadata": {},
     "output_type": "display_data"
    },
    {
     "data": {
      "application/vnd.jupyter.widget-view+json": {
       "model_id": "1ed09af4f69240a0bff6cd193ff64f55",
       "version_major": 2,
       "version_minor": 0
      },
      "text/plain": [
       "Running agent sweeps:   0%|          | 0/1 [00:00<?, ?it/s]"
      ]
     },
     "metadata": {},
     "output_type": "display_data"
    },
    {
     "data": {
      "application/vnd.jupyter.widget-view+json": {
       "model_id": "2fe82ddd36f840a59ef1848426b9f141",
       "version_major": 2,
       "version_minor": 0
      },
      "text/plain": [
       "Running round sweeps:   0%|          | 0/1 [00:00<?, ?it/s]"
      ]
     },
     "metadata": {},
     "output_type": "display_data"
    },
    {
     "data": {
      "application/vnd.jupyter.widget-view+json": {
       "model_id": "ec543871f899475e8dfe4277175aac78",
       "version_major": 2,
       "version_minor": 0
      },
      "text/plain": [
       "Running experiments:   0%|          | 0/100 [00:00<?, ?it/s]"
      ]
     },
     "metadata": {},
     "output_type": "display_data"
    },
    {
     "data": {
      "application/vnd.jupyter.widget-view+json": {
       "model_id": "5fcd622d5fae4f7c8557c48259d3045b",
       "version_major": 2,
       "version_minor": 0
      },
      "text/plain": [
       "Running agent sweeps:   0%|          | 0/1 [00:00<?, ?it/s]"
      ]
     },
     "metadata": {},
     "output_type": "display_data"
    },
    {
     "data": {
      "application/vnd.jupyter.widget-view+json": {
       "model_id": "4c28363815ef44e2b76a3363fad2b268",
       "version_major": 2,
       "version_minor": 0
      },
      "text/plain": [
       "Running round sweeps:   0%|          | 0/1 [00:00<?, ?it/s]"
      ]
     },
     "metadata": {},
     "output_type": "display_data"
    },
    {
     "data": {
      "application/vnd.jupyter.widget-view+json": {
       "model_id": "eab3dfc790bf493a99a721818324361f",
       "version_major": 2,
       "version_minor": 0
      },
      "text/plain": [
       "Running experiments:   0%|          | 0/100 [00:00<?, ?it/s]"
      ]
     },
     "metadata": {},
     "output_type": "display_data"
    },
    {
     "data": {
      "application/vnd.jupyter.widget-view+json": {
       "model_id": "59d98b1d7f38439590beb2fc72648fd6",
       "version_major": 2,
       "version_minor": 0
      },
      "text/plain": [
       "Running agent sweeps:   0%|          | 0/1 [00:00<?, ?it/s]"
      ]
     },
     "metadata": {},
     "output_type": "display_data"
    },
    {
     "data": {
      "application/vnd.jupyter.widget-view+json": {
       "model_id": "083475ec81c74ddf9b3e415ab321b82c",
       "version_major": 2,
       "version_minor": 0
      },
      "text/plain": [
       "Running round sweeps:   0%|          | 0/1 [00:00<?, ?it/s]"
      ]
     },
     "metadata": {},
     "output_type": "display_data"
    },
    {
     "data": {
      "application/vnd.jupyter.widget-view+json": {
       "model_id": "099e81bc66264368b5e4c71730e41a2a",
       "version_major": 2,
       "version_minor": 0
      },
      "text/plain": [
       "Running experiments:   0%|          | 0/100 [00:00<?, ?it/s]"
      ]
     },
     "metadata": {},
     "output_type": "display_data"
    },
    {
     "data": {
      "application/vnd.jupyter.widget-view+json": {
       "model_id": "96890ce9f5544c0bbf4256a71de004bc",
       "version_major": 2,
       "version_minor": 0
      },
      "text/plain": [
       "Running agent sweeps:   0%|          | 0/1 [00:00<?, ?it/s]"
      ]
     },
     "metadata": {},
     "output_type": "display_data"
    },
    {
     "data": {
      "application/vnd.jupyter.widget-view+json": {
       "model_id": "b34446ba98f240598e864a4c08dc656a",
       "version_major": 2,
       "version_minor": 0
      },
      "text/plain": [
       "Running round sweeps:   0%|          | 0/1 [00:00<?, ?it/s]"
      ]
     },
     "metadata": {},
     "output_type": "display_data"
    },
    {
     "data": {
      "application/vnd.jupyter.widget-view+json": {
       "model_id": "d1601e8257fe4acfa16ac655fb5c3d27",
       "version_major": 2,
       "version_minor": 0
      },
      "text/plain": [
       "Running experiments:   0%|          | 0/100 [00:00<?, ?it/s]"
      ]
     },
     "metadata": {},
     "output_type": "display_data"
    },
    {
     "data": {
      "application/vnd.jupyter.widget-view+json": {
       "model_id": "9142a3d47732413cbba275ba884882ee",
       "version_major": 2,
       "version_minor": 0
      },
      "text/plain": [
       "Running predictor sweeps:   0%|          | 0/6 [00:00<?, ?it/s]"
      ]
     },
     "metadata": {},
     "output_type": "display_data"
    },
    {
     "data": {
      "application/vnd.jupyter.widget-view+json": {
       "model_id": "59f180a4962b49e4840130aaa2ff92da",
       "version_major": 2,
       "version_minor": 0
      },
      "text/plain": [
       "Running agent sweeps:   0%|          | 0/1 [00:00<?, ?it/s]"
      ]
     },
     "metadata": {},
     "output_type": "display_data"
    },
    {
     "data": {
      "application/vnd.jupyter.widget-view+json": {
       "model_id": "74df3e7ad8c547808b670e2c32e80e77",
       "version_major": 2,
       "version_minor": 0
      },
      "text/plain": [
       "Running round sweeps:   0%|          | 0/1 [00:00<?, ?it/s]"
      ]
     },
     "metadata": {},
     "output_type": "display_data"
    },
    {
     "data": {
      "application/vnd.jupyter.widget-view+json": {
       "model_id": "86445b25f1db41119e5304b9ebd6b02b",
       "version_major": 2,
       "version_minor": 0
      },
      "text/plain": [
       "Running experiments:   0%|          | 0/100 [00:00<?, ?it/s]"
      ]
     },
     "metadata": {},
     "output_type": "display_data"
    },
    {
     "data": {
      "application/vnd.jupyter.widget-view+json": {
       "model_id": "cc8bb291c02a4b57bc5cfd703fbb31cc",
       "version_major": 2,
       "version_minor": 0
      },
      "text/plain": [
       "Running agent sweeps:   0%|          | 0/1 [00:00<?, ?it/s]"
      ]
     },
     "metadata": {},
     "output_type": "display_data"
    },
    {
     "data": {
      "application/vnd.jupyter.widget-view+json": {
       "model_id": "53356e6aecd84b79948a4a69f3ce6dbe",
       "version_major": 2,
       "version_minor": 0
      },
      "text/plain": [
       "Running round sweeps:   0%|          | 0/1 [00:00<?, ?it/s]"
      ]
     },
     "metadata": {},
     "output_type": "display_data"
    },
    {
     "data": {
      "application/vnd.jupyter.widget-view+json": {
       "model_id": "789f9aba7d00437e88bfb9d0acceb815",
       "version_major": 2,
       "version_minor": 0
      },
      "text/plain": [
       "Running experiments:   0%|          | 0/100 [00:00<?, ?it/s]"
      ]
     },
     "metadata": {},
     "output_type": "display_data"
    },
    {
     "data": {
      "application/vnd.jupyter.widget-view+json": {
       "model_id": "aa79a36f9b1741ddbec981a714a0adbf",
       "version_major": 2,
       "version_minor": 0
      },
      "text/plain": [
       "Running agent sweeps:   0%|          | 0/1 [00:00<?, ?it/s]"
      ]
     },
     "metadata": {},
     "output_type": "display_data"
    },
    {
     "data": {
      "application/vnd.jupyter.widget-view+json": {
       "model_id": "1dce89203d184a61989e52f09f0fb790",
       "version_major": 2,
       "version_minor": 0
      },
      "text/plain": [
       "Running round sweeps:   0%|          | 0/1 [00:00<?, ?it/s]"
      ]
     },
     "metadata": {},
     "output_type": "display_data"
    },
    {
     "data": {
      "application/vnd.jupyter.widget-view+json": {
       "model_id": "05be2804eac4475785af3337d2e0a4f6",
       "version_major": 2,
       "version_minor": 0
      },
      "text/plain": [
       "Running experiments:   0%|          | 0/100 [00:00<?, ?it/s]"
      ]
     },
     "metadata": {},
     "output_type": "display_data"
    },
    {
     "data": {
      "application/vnd.jupyter.widget-view+json": {
       "model_id": "58ce1c1bcc714732bc125fda2ed6b34e",
       "version_major": 2,
       "version_minor": 0
      },
      "text/plain": [
       "Running agent sweeps:   0%|          | 0/1 [00:00<?, ?it/s]"
      ]
     },
     "metadata": {},
     "output_type": "display_data"
    },
    {
     "data": {
      "application/vnd.jupyter.widget-view+json": {
       "model_id": "68f892950f694a3fa8311c8687d9c5a7",
       "version_major": 2,
       "version_minor": 0
      },
      "text/plain": [
       "Running round sweeps:   0%|          | 0/1 [00:00<?, ?it/s]"
      ]
     },
     "metadata": {},
     "output_type": "display_data"
    },
    {
     "data": {
      "application/vnd.jupyter.widget-view+json": {
       "model_id": "2cde816293d74f0b8835fcf501932203",
       "version_major": 2,
       "version_minor": 0
      },
      "text/plain": [
       "Running experiments:   0%|          | 0/100 [00:00<?, ?it/s]"
      ]
     },
     "metadata": {},
     "output_type": "display_data"
    },
    {
     "data": {
      "application/vnd.jupyter.widget-view+json": {
       "model_id": "8ade74a9f25c4b1db35816c1f1676907",
       "version_major": 2,
       "version_minor": 0
      },
      "text/plain": [
       "Running agent sweeps:   0%|          | 0/1 [00:00<?, ?it/s]"
      ]
     },
     "metadata": {},
     "output_type": "display_data"
    },
    {
     "data": {
      "application/vnd.jupyter.widget-view+json": {
       "model_id": "546a614c67dd4896acacb6cd4fddde8b",
       "version_major": 2,
       "version_minor": 0
      },
      "text/plain": [
       "Running round sweeps:   0%|          | 0/1 [00:00<?, ?it/s]"
      ]
     },
     "metadata": {},
     "output_type": "display_data"
    },
    {
     "data": {
      "application/vnd.jupyter.widget-view+json": {
       "model_id": "e049713a03034d26aa9fc57db18138d6",
       "version_major": 2,
       "version_minor": 0
      },
      "text/plain": [
       "Running experiments:   0%|          | 0/100 [00:00<?, ?it/s]"
      ]
     },
     "metadata": {},
     "output_type": "display_data"
    },
    {
     "data": {
      "application/vnd.jupyter.widget-view+json": {
       "model_id": "386c347b6a4b45d5859f27c056e446f2",
       "version_major": 2,
       "version_minor": 0
      },
      "text/plain": [
       "Running agent sweeps:   0%|          | 0/1 [00:00<?, ?it/s]"
      ]
     },
     "metadata": {},
     "output_type": "display_data"
    },
    {
     "data": {
      "application/vnd.jupyter.widget-view+json": {
       "model_id": "85c612d1a8374668b6bf97295ea5ff77",
       "version_major": 2,
       "version_minor": 0
      },
      "text/plain": [
       "Running round sweeps:   0%|          | 0/1 [00:00<?, ?it/s]"
      ]
     },
     "metadata": {},
     "output_type": "display_data"
    },
    {
     "data": {
      "application/vnd.jupyter.widget-view+json": {
       "model_id": "0c6d3267b47241ab94df63494b082215",
       "version_major": 2,
       "version_minor": 0
      },
      "text/plain": [
       "Running experiments:   0%|          | 0/100 [00:00<?, ?it/s]"
      ]
     },
     "metadata": {},
     "output_type": "display_data"
    },
    {
     "data": {
      "application/vnd.jupyter.widget-view+json": {
       "model_id": "0ca1f446c6c7481facc7bf475bbeedcf",
       "version_major": 2,
       "version_minor": 0
      },
      "text/plain": [
       "Running predictor sweeps:   0%|          | 0/6 [00:00<?, ?it/s]"
      ]
     },
     "metadata": {},
     "output_type": "display_data"
    },
    {
     "data": {
      "application/vnd.jupyter.widget-view+json": {
       "model_id": "cfe1b770dd7d4cf18136f27ad1a6ba45",
       "version_major": 2,
       "version_minor": 0
      },
      "text/plain": [
       "Running agent sweeps:   0%|          | 0/1 [00:00<?, ?it/s]"
      ]
     },
     "metadata": {},
     "output_type": "display_data"
    },
    {
     "data": {
      "application/vnd.jupyter.widget-view+json": {
       "model_id": "bfa6cfa627a94ae5b65b48401e867477",
       "version_major": 2,
       "version_minor": 0
      },
      "text/plain": [
       "Running round sweeps:   0%|          | 0/1 [00:00<?, ?it/s]"
      ]
     },
     "metadata": {},
     "output_type": "display_data"
    },
    {
     "data": {
      "application/vnd.jupyter.widget-view+json": {
       "model_id": "f48bfdd508ad48d38570b0ac6ce96803",
       "version_major": 2,
       "version_minor": 0
      },
      "text/plain": [
       "Running experiments:   0%|          | 0/100 [00:00<?, ?it/s]"
      ]
     },
     "metadata": {},
     "output_type": "display_data"
    },
    {
     "data": {
      "application/vnd.jupyter.widget-view+json": {
       "model_id": "3791673397b9408197e12134f5cdbe72",
       "version_major": 2,
       "version_minor": 0
      },
      "text/plain": [
       "Running agent sweeps:   0%|          | 0/1 [00:00<?, ?it/s]"
      ]
     },
     "metadata": {},
     "output_type": "display_data"
    },
    {
     "data": {
      "application/vnd.jupyter.widget-view+json": {
       "model_id": "a1a5e0cc298140d5b3f7b37dd67e4582",
       "version_major": 2,
       "version_minor": 0
      },
      "text/plain": [
       "Running round sweeps:   0%|          | 0/1 [00:00<?, ?it/s]"
      ]
     },
     "metadata": {},
     "output_type": "display_data"
    },
    {
     "data": {
      "application/vnd.jupyter.widget-view+json": {
       "model_id": "05c654f94c0f4d338fff96e4b4cfdb9c",
       "version_major": 2,
       "version_minor": 0
      },
      "text/plain": [
       "Running experiments:   0%|          | 0/100 [00:00<?, ?it/s]"
      ]
     },
     "metadata": {},
     "output_type": "display_data"
    },
    {
     "data": {
      "application/vnd.jupyter.widget-view+json": {
       "model_id": "62d69d42616d4dba88aa044078cb131a",
       "version_major": 2,
       "version_minor": 0
      },
      "text/plain": [
       "Running agent sweeps:   0%|          | 0/1 [00:00<?, ?it/s]"
      ]
     },
     "metadata": {},
     "output_type": "display_data"
    },
    {
     "data": {
      "application/vnd.jupyter.widget-view+json": {
       "model_id": "b1aac0bae99d4e1f85d8a51f92149254",
       "version_major": 2,
       "version_minor": 0
      },
      "text/plain": [
       "Running round sweeps:   0%|          | 0/1 [00:00<?, ?it/s]"
      ]
     },
     "metadata": {},
     "output_type": "display_data"
    },
    {
     "data": {
      "application/vnd.jupyter.widget-view+json": {
       "model_id": "351c867f56f54514a3e4d8c01c2074c2",
       "version_major": 2,
       "version_minor": 0
      },
      "text/plain": [
       "Running experiments:   0%|          | 0/100 [00:00<?, ?it/s]"
      ]
     },
     "metadata": {},
     "output_type": "display_data"
    },
    {
     "data": {
      "application/vnd.jupyter.widget-view+json": {
       "model_id": "3ff5dc98114b493ebfe9991090ad5014",
       "version_major": 2,
       "version_minor": 0
      },
      "text/plain": [
       "Running agent sweeps:   0%|          | 0/1 [00:00<?, ?it/s]"
      ]
     },
     "metadata": {},
     "output_type": "display_data"
    },
    {
     "data": {
      "application/vnd.jupyter.widget-view+json": {
       "model_id": "a5d5e8dad0f942dab4c6ee14992dbce2",
       "version_major": 2,
       "version_minor": 0
      },
      "text/plain": [
       "Running round sweeps:   0%|          | 0/1 [00:00<?, ?it/s]"
      ]
     },
     "metadata": {},
     "output_type": "display_data"
    },
    {
     "data": {
      "application/vnd.jupyter.widget-view+json": {
       "model_id": "6149604faa48498b8495d30bac4257be",
       "version_major": 2,
       "version_minor": 0
      },
      "text/plain": [
       "Running experiments:   0%|          | 0/100 [00:00<?, ?it/s]"
      ]
     },
     "metadata": {},
     "output_type": "display_data"
    },
    {
     "data": {
      "application/vnd.jupyter.widget-view+json": {
       "model_id": "fa3113b818b147a5a142be3e8547055b",
       "version_major": 2,
       "version_minor": 0
      },
      "text/plain": [
       "Running agent sweeps:   0%|          | 0/1 [00:00<?, ?it/s]"
      ]
     },
     "metadata": {},
     "output_type": "display_data"
    },
    {
     "data": {
      "application/vnd.jupyter.widget-view+json": {
       "model_id": "5c975604fc954f14ab84ec208f3a5df5",
       "version_major": 2,
       "version_minor": 0
      },
      "text/plain": [
       "Running round sweeps:   0%|          | 0/1 [00:00<?, ?it/s]"
      ]
     },
     "metadata": {},
     "output_type": "display_data"
    },
    {
     "data": {
      "application/vnd.jupyter.widget-view+json": {
       "model_id": "9cd58c6afb534120a593b4a4f71c2171",
       "version_major": 2,
       "version_minor": 0
      },
      "text/plain": [
       "Running experiments:   0%|          | 0/100 [00:00<?, ?it/s]"
      ]
     },
     "metadata": {},
     "output_type": "display_data"
    },
    {
     "data": {
      "application/vnd.jupyter.widget-view+json": {
       "model_id": "1412d675ac3341398b82c23bf0e67509",
       "version_major": 2,
       "version_minor": 0
      },
      "text/plain": [
       "Running agent sweeps:   0%|          | 0/1 [00:00<?, ?it/s]"
      ]
     },
     "metadata": {},
     "output_type": "display_data"
    },
    {
     "data": {
      "application/vnd.jupyter.widget-view+json": {
       "model_id": "e52856f1e17c46b49858a0db75604154",
       "version_major": 2,
       "version_minor": 0
      },
      "text/plain": [
       "Running round sweeps:   0%|          | 0/1 [00:00<?, ?it/s]"
      ]
     },
     "metadata": {},
     "output_type": "display_data"
    },
    {
     "data": {
      "application/vnd.jupyter.widget-view+json": {
       "model_id": "7033c6b89a8f47dc8bb4c3cc67ef8ed5",
       "version_major": 2,
       "version_minor": 0
      },
      "text/plain": [
       "Running experiments:   0%|          | 0/100 [00:00<?, ?it/s]"
      ]
     },
     "metadata": {},
     "output_type": "display_data"
    },
    {
     "data": {
      "application/vnd.jupyter.widget-view+json": {
       "model_id": "6ba92f5e38b0484aa05a9ed22a4baa34",
       "version_major": 2,
       "version_minor": 0
      },
      "text/plain": [
       "Running predictor sweeps:   0%|          | 0/6 [00:00<?, ?it/s]"
      ]
     },
     "metadata": {},
     "output_type": "display_data"
    },
    {
     "data": {
      "application/vnd.jupyter.widget-view+json": {
       "model_id": "0608baf7bfaa4900bfd461ac1e0427f9",
       "version_major": 2,
       "version_minor": 0
      },
      "text/plain": [
       "Running agent sweeps:   0%|          | 0/1 [00:00<?, ?it/s]"
      ]
     },
     "metadata": {},
     "output_type": "display_data"
    },
    {
     "data": {
      "application/vnd.jupyter.widget-view+json": {
       "model_id": "c43a7eea8a164523be980fd95fc4fe49",
       "version_major": 2,
       "version_minor": 0
      },
      "text/plain": [
       "Running round sweeps:   0%|          | 0/1 [00:00<?, ?it/s]"
      ]
     },
     "metadata": {},
     "output_type": "display_data"
    },
    {
     "data": {
      "application/vnd.jupyter.widget-view+json": {
       "model_id": "b6e4e96139f9434d9ef9d780438529a1",
       "version_major": 2,
       "version_minor": 0
      },
      "text/plain": [
       "Running experiments:   0%|          | 0/100 [00:00<?, ?it/s]"
      ]
     },
     "metadata": {},
     "output_type": "display_data"
    },
    {
     "data": {
      "application/vnd.jupyter.widget-view+json": {
       "model_id": "9e43fde9a7f742b1ad59ce2b6640aa26",
       "version_major": 2,
       "version_minor": 0
      },
      "text/plain": [
       "Running agent sweeps:   0%|          | 0/1 [00:00<?, ?it/s]"
      ]
     },
     "metadata": {},
     "output_type": "display_data"
    },
    {
     "data": {
      "application/vnd.jupyter.widget-view+json": {
       "model_id": "9c287d365678483b93dfeb842cc2a1c5",
       "version_major": 2,
       "version_minor": 0
      },
      "text/plain": [
       "Running round sweeps:   0%|          | 0/1 [00:00<?, ?it/s]"
      ]
     },
     "metadata": {},
     "output_type": "display_data"
    },
    {
     "data": {
      "application/vnd.jupyter.widget-view+json": {
       "model_id": "1a8bb9b0f85b4aa9a11fe37d75ddd2b4",
       "version_major": 2,
       "version_minor": 0
      },
      "text/plain": [
       "Running experiments:   0%|          | 0/100 [00:00<?, ?it/s]"
      ]
     },
     "metadata": {},
     "output_type": "display_data"
    },
    {
     "data": {
      "application/vnd.jupyter.widget-view+json": {
       "model_id": "247da2f7bb1c4de0b8fe626c0060faf6",
       "version_major": 2,
       "version_minor": 0
      },
      "text/plain": [
       "Running agent sweeps:   0%|          | 0/1 [00:00<?, ?it/s]"
      ]
     },
     "metadata": {},
     "output_type": "display_data"
    },
    {
     "data": {
      "application/vnd.jupyter.widget-view+json": {
       "model_id": "d8443f84efff4731a1fc09e83d11b444",
       "version_major": 2,
       "version_minor": 0
      },
      "text/plain": [
       "Running round sweeps:   0%|          | 0/1 [00:00<?, ?it/s]"
      ]
     },
     "metadata": {},
     "output_type": "display_data"
    },
    {
     "data": {
      "application/vnd.jupyter.widget-view+json": {
       "model_id": "01ca801542d6439296806723d3ec5873",
       "version_major": 2,
       "version_minor": 0
      },
      "text/plain": [
       "Running experiments:   0%|          | 0/100 [00:00<?, ?it/s]"
      ]
     },
     "metadata": {},
     "output_type": "display_data"
    },
    {
     "data": {
      "application/vnd.jupyter.widget-view+json": {
       "model_id": "03eb3d6a7ee94a90a24ce6d9277d582b",
       "version_major": 2,
       "version_minor": 0
      },
      "text/plain": [
       "Running agent sweeps:   0%|          | 0/1 [00:00<?, ?it/s]"
      ]
     },
     "metadata": {},
     "output_type": "display_data"
    },
    {
     "data": {
      "application/vnd.jupyter.widget-view+json": {
       "model_id": "b4d74c9fecde4da1b947792a2c8c6fc5",
       "version_major": 2,
       "version_minor": 0
      },
      "text/plain": [
       "Running round sweeps:   0%|          | 0/1 [00:00<?, ?it/s]"
      ]
     },
     "metadata": {},
     "output_type": "display_data"
    },
    {
     "data": {
      "application/vnd.jupyter.widget-view+json": {
       "model_id": "533756cd21014ec18ae6165e1e98404c",
       "version_major": 2,
       "version_minor": 0
      },
      "text/plain": [
       "Running experiments:   0%|          | 0/100 [00:00<?, ?it/s]"
      ]
     },
     "metadata": {},
     "output_type": "display_data"
    },
    {
     "data": {
      "application/vnd.jupyter.widget-view+json": {
       "model_id": "c226f3ea222c4b49abd0189c447a33bc",
       "version_major": 2,
       "version_minor": 0
      },
      "text/plain": [
       "Running agent sweeps:   0%|          | 0/1 [00:00<?, ?it/s]"
      ]
     },
     "metadata": {},
     "output_type": "display_data"
    },
    {
     "data": {
      "application/vnd.jupyter.widget-view+json": {
       "model_id": "a2a369acecba43559744bdc41488f759",
       "version_major": 2,
       "version_minor": 0
      },
      "text/plain": [
       "Running round sweeps:   0%|          | 0/1 [00:00<?, ?it/s]"
      ]
     },
     "metadata": {},
     "output_type": "display_data"
    },
    {
     "data": {
      "application/vnd.jupyter.widget-view+json": {
       "model_id": "b86e31de78c5483eaf573031a65adbf8",
       "version_major": 2,
       "version_minor": 0
      },
      "text/plain": [
       "Running experiments:   0%|          | 0/100 [00:00<?, ?it/s]"
      ]
     },
     "metadata": {},
     "output_type": "display_data"
    },
    {
     "data": {
      "application/vnd.jupyter.widget-view+json": {
       "model_id": "74d68ff247aa4c25b6a0b8aae806b2dc",
       "version_major": 2,
       "version_minor": 0
      },
      "text/plain": [
       "Running agent sweeps:   0%|          | 0/1 [00:00<?, ?it/s]"
      ]
     },
     "metadata": {},
     "output_type": "display_data"
    },
    {
     "data": {
      "application/vnd.jupyter.widget-view+json": {
       "model_id": "e9e00fe9213640c288612d88adbb9baf",
       "version_major": 2,
       "version_minor": 0
      },
      "text/plain": [
       "Running round sweeps:   0%|          | 0/1 [00:00<?, ?it/s]"
      ]
     },
     "metadata": {},
     "output_type": "display_data"
    },
    {
     "data": {
      "application/vnd.jupyter.widget-view+json": {
       "model_id": "5278e3ac1ec34465a5d7d15b0f25c0ab",
       "version_major": 2,
       "version_minor": 0
      },
      "text/plain": [
       "Running experiments:   0%|          | 0/100 [00:00<?, ?it/s]"
      ]
     },
     "metadata": {},
     "output_type": "display_data"
    }
   ],
   "source": [
    "ks = [1, 3, 6, 9, 12, 24]\n",
    "ds = [2, 4, 6, 12, 24, 48]\n",
    "\n",
    "num_rounds = 100\n",
    "num_episodes = 100\n",
    "\n",
    "df = main(\n",
    "    ks=ks,\n",
    "    ds=ds,\n",
    "    num_rounds=num_rounds,\n",
    "    num_experiments=num_episodes,\n",
    "    seed=42\n",
    ")"
   ]
  },
  {
   "cell_type": "code",
   "execution_count": 10,
   "id": "33d0a076",
   "metadata": {},
   "outputs": [
    {
     "data": {
      "text/html": [
       "<div>\n",
       "<style scoped>\n",
       "    .dataframe tbody tr th:only-of-type {\n",
       "        vertical-align: middle;\n",
       "    }\n",
       "\n",
       "    .dataframe tbody tr th {\n",
       "        vertical-align: top;\n",
       "    }\n",
       "\n",
       "    .dataframe thead th {\n",
       "        text-align: right;\n",
       "    }\n",
       "</style>\n",
       "<table border=\"1\" class=\"dataframe\">\n",
       "  <thead>\n",
       "    <tr style=\"text-align: right;\">\n",
       "      <th></th>\n",
       "      <th>index</th>\n",
       "      <th>Memory</th>\n",
       "      <th>Num_predictors</th>\n",
       "      <th>Identifier</th>\n",
       "      <th>Round</th>\n",
       "      <th>Agent</th>\n",
       "      <th>Decision</th>\n",
       "      <th>Score</th>\n",
       "      <th>Policy</th>\n",
       "      <th>Prediction</th>\n",
       "      <th>Inaccuracy</th>\n",
       "    </tr>\n",
       "  </thead>\n",
       "  <tbody>\n",
       "    <tr>\n",
       "      <th>90</th>\n",
       "      <td>90</td>\n",
       "      <td>2</td>\n",
       "      <td>1</td>\n",
       "      <td>0</td>\n",
       "      <td>90</td>\n",
       "      <td>0</td>\n",
       "      <td>1</td>\n",
       "      <td>1</td>\n",
       "      <td>2-cyclic-mirror</td>\n",
       "      <td>49</td>\n",
       "      <td>29.433333</td>\n",
       "    </tr>\n",
       "    <tr>\n",
       "      <th>91</th>\n",
       "      <td>91</td>\n",
       "      <td>2</td>\n",
       "      <td>1</td>\n",
       "      <td>0</td>\n",
       "      <td>91</td>\n",
       "      <td>0</td>\n",
       "      <td>1</td>\n",
       "      <td>-1</td>\n",
       "      <td>2-cyclic-mirror</td>\n",
       "      <td>22</td>\n",
       "      <td>29.428571</td>\n",
       "    </tr>\n",
       "  </tbody>\n",
       "</table>\n",
       "</div>"
      ],
      "text/plain": [
       "    index  Memory  Num_predictors  Identifier  Round  Agent  Decision  Score  \\\n",
       "90     90       2               1           0     90      0         1      1   \n",
       "91     91       2               1           0     91      0         1     -1   \n",
       "\n",
       "             Policy  Prediction  Inaccuracy  \n",
       "90  2-cyclic-mirror          49   29.433333  \n",
       "91  2-cyclic-mirror          22   29.428571  "
      ]
     },
     "execution_count": 10,
     "metadata": {},
     "output_type": "execute_result"
    }
   ],
   "source": [
    "dfE = df[df['Round'] >= int(0.9 * num_rounds)]\n",
    "dfE.head(2)"
   ]
  },
  {
   "cell_type": "code",
   "execution_count": 11,
   "id": "80d99ba9",
   "metadata": {},
   "outputs": [
    {
     "data": {
      "text/html": [
       "<div>\n",
       "<style scoped>\n",
       "    .dataframe tbody tr th:only-of-type {\n",
       "        vertical-align: middle;\n",
       "    }\n",
       "\n",
       "    .dataframe tbody tr th {\n",
       "        vertical-align: top;\n",
       "    }\n",
       "\n",
       "    .dataframe thead th {\n",
       "        text-align: right;\n",
       "    }\n",
       "</style>\n",
       "<table border=\"1\" class=\"dataframe\">\n",
       "  <thead>\n",
       "    <tr style=\"text-align: right;\">\n",
       "      <th></th>\n",
       "      <th></th>\n",
       "      <th></th>\n",
       "      <th></th>\n",
       "      <th>Commonality</th>\n",
       "      <th>Attendance</th>\n",
       "      <th>Efficiency</th>\n",
       "      <th>Inaccuracy</th>\n",
       "    </tr>\n",
       "    <tr>\n",
       "      <th>Identifier</th>\n",
       "      <th>Round</th>\n",
       "      <th>Num_predictors</th>\n",
       "      <th>Memory</th>\n",
       "      <th></th>\n",
       "      <th></th>\n",
       "      <th></th>\n",
       "      <th></th>\n",
       "    </tr>\n",
       "  </thead>\n",
       "  <tbody>\n",
       "    <tr>\n",
       "      <th rowspan=\"2\" valign=\"top\">0</th>\n",
       "      <th>90</th>\n",
       "      <th>1</th>\n",
       "      <th>2</th>\n",
       "      <td>0.02</td>\n",
       "      <td>0.51</td>\n",
       "      <td>0.51</td>\n",
       "      <td>25.337556</td>\n",
       "    </tr>\n",
       "    <tr>\n",
       "      <th>91</th>\n",
       "      <th>1</th>\n",
       "      <th>2</th>\n",
       "      <td>0.56</td>\n",
       "      <td>0.78</td>\n",
       "      <td>-0.78</td>\n",
       "      <td>25.372747</td>\n",
       "    </tr>\n",
       "  </tbody>\n",
       "</table>\n",
       "</div>"
      ],
      "text/plain": [
       "                                        Commonality  Attendance  Efficiency  \\\n",
       "Identifier Round Num_predictors Memory                                        \n",
       "0          90    1              2              0.02        0.51        0.51   \n",
       "           91    1              2              0.56        0.78       -0.78   \n",
       "\n",
       "                                        Inaccuracy  \n",
       "Identifier Round Num_predictors Memory              \n",
       "0          90    1              2        25.337556  \n",
       "           91    1              2        25.372747  "
      ]
     },
     "execution_count": 11,
     "metadata": {},
     "output_type": "execute_result"
    }
   ],
   "source": [
    "df2B = dfE.groupby(['Identifier', 'Round', 'Num_predictors', 'Memory']).agg(\n",
    "    Commonality=pd.NamedAgg(column=\"Decision\", aggfunc=lambda x: Commonality(x.values)),\n",
    "    Attendance=pd.NamedAgg(column=\"Decision\", aggfunc=lambda x: np.mean(x.values)),\n",
    "    Efficiency=pd.NamedAgg(column=\"Score\", aggfunc=lambda x: np.mean(x.values)),\n",
    "    Inaccuracy=pd.NamedAgg(column=\"Inaccuracy\", aggfunc=lambda x: np.mean(x.values))\n",
    ")\n",
    "df2B.head(2)"
   ]
  },
  {
   "cell_type": "code",
   "execution_count": 14,
   "id": "51be74d2",
   "metadata": {},
   "outputs": [
    {
     "data": {
      "text/plain": [
       "<matplotlib.legend.Legend at 0x4bbf1c8b0>"
      ]
     },
     "execution_count": 14,
     "metadata": {},
     "output_type": "execute_result"
    },
    {
     "data": {
      "image/png": "[encoded data removed]",
      "text/plain": [
       "<Figure size 1100x300 with 3 Axes>"
      ]
     },
     "metadata": {},
     "output_type": "display_data"
    }
   ],
   "source": [
    "fig, axes = plt.subplots(\n",
    "    1, 3, \n",
    "    figsize=(11,3), \n",
    "    tight_layout=True,\n",
    "    sharex=True, sharey=False\n",
    ")\n",
    "\n",
    "sns.lineplot(\n",
    "    x='Num_predictors',\n",
    "    y='Commonality',\n",
    "    data=df2B,\n",
    "    hue='Memory',\n",
    "    style='Memory',\n",
    "    palette='icefire',\n",
    "    ax=axes[0],\n",
    ")\n",
    "axes[0].legend_.remove()\n",
    "axes[0].set_title('Commonality')\n",
    "\n",
    "sns.lineplot(\n",
    "    x='Num_predictors',\n",
    "    y='Efficiency',\n",
    "    data=df2B,\n",
    "    hue='Memory',\n",
    "    style='Memory',\n",
    "    palette='icefire',\n",
    "    ax=axes[1],\n",
    ")\n",
    "handles, labels = axes[1].get_legend_handles_labels()\n",
    "axes[1].legend_.remove()\n",
    "axes[1].set_title('Efficiency')\n",
    "\n",
    "sns.lineplot(\n",
    "    x='Num_predictors',\n",
    "    y='Inaccuracy',\n",
    "    data=df2B,\n",
    "    hue='Memory',\n",
    "    style='Memory',\n",
    "    palette='icefire',\n",
    "    ax=axes[2],\n",
    ")\n",
    "axes[2].legend_.remove()\n",
    "axes[2].set_title('Inaccuracy')\n",
    "\n",
    "fig.suptitle('Measures by Memory and Predictors', fontsize=14)\n",
    "fig.legend(\n",
    "    title='Memory',\n",
    "    handles=handles, \n",
    "    labels=labels, \n",
    "    loc='lower center', \n",
    "    bbox_to_anchor=(.5, -.2),\n",
    "    ncol=6\n",
    ")"
   ]
  },
  {
   "cell_type": "code",
   "execution_count": 15,
   "id": "33c9c1f1",
   "metadata": {},
   "outputs": [],
   "source": [
    "file_name = PATHS['folder_figures_for_paper'] / 'sweep_d_and_k.png'\n",
    "fig.savefig(file_name, dpi=300, bbox_inches='tight')"
   ]
  },
  {
   "cell_type": "markdown",
   "id": "51321d8a",
   "metadata": {},
   "source": [
    "---"
   ]
  }
 ],
 "metadata": {
  "kernelspec": {
   "display_name": "Python 3",
   "language": "python",
   "name": "python3"
  },
  "language_info": {
   "codemirror_mode": {
    "name": "ipython",
    "version": 3
   },
   "file_extension": ".py",
   "mimetype": "text/x-python",
   "name": "python",
   "nbconvert_exporter": "python",
   "pygments_lexer": "ipython3",
   "version": "3.9.6"
  }
 },
 "nbformat": 4,
 "nbformat_minor": 5
}
